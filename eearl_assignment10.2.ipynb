{
  "nbformat": 4,
  "nbformat_minor": 0,
  "metadata": {
    "colab": {
      "name": "Untitled1.ipynb",
      "provenance": [],
      "collapsed_sections": [],
      "authorship_tag": "ABX9TyOTlrc2yA/LtSR8JzLKoMum",
      "include_colab_link": true
    },
    "kernelspec": {
      "name": "python3",
      "display_name": "Python 3"
    },
    "language_info": {
      "name": "python"
    }
  },
  "cells": [
    {
      "cell_type": "markdown",
      "metadata": {
        "id": "view-in-github",
        "colab_type": "text"
      },
      "source": [
        "<a href=\"https://colab.research.google.com/github/esanch/Projects/blob/main/eearl_assignment10.2.ipynb\" target=\"_parent\"><img src=\"https://colab.research.google.com/assets/colab-badge.svg\" alt=\"Open In Colab\"/></a>"
      ]
    },
    {
      "cell_type": "code",
      "execution_count": 1,
      "metadata": {
        "colab": {
          "base_uri": "https://localhost:8080/"
        },
        "id": "4tmMtDbU5z_E",
        "outputId": "f91acca8-3883-4e92-8dad-8bcc8d9d9d37"
      },
      "outputs": [
        {
          "output_type": "stream",
          "name": "stdout",
          "text": [
            "Cloning into 'dsc650'...\n",
            "remote: Enumerating objects: 120199, done.\u001b[K\n",
            "remote: Counting objects: 100% (6/6), done.\u001b[K\n",
            "remote: Compressing objects: 100% (6/6), done.\u001b[K\n",
            "remote: Total 120199 (delta 2), reused 2 (delta 0), pack-reused 120193\u001b[K\n",
            "Receiving objects: 100% (120199/120199), 360.29 MiB | 20.03 MiB/s, done.\n",
            "Resolving deltas: 100% (7266/7266), done.\n",
            "Checking out files: 100% (114699/114699), done.\n"
          ]
        }
      ],
      "source": [
        "!git clone https://github.com/bellevue-university/dsc650\n",
        "imdb_dir = '/content/dsc650/data/external/imdb/aclImdb'"
      ]
    },
    {
      "cell_type": "code",
      "source": [
        "from keras.preprocessing.text import Tokenizer\n",
        "from keras.preprocessing.sequence import pad_sequences\n",
        "import numpy as np\n",
        "import matplotlib.pyplot as plt\n",
        "from pathlib import Path\n",
        "from keras.models import Sequential\n",
        "from keras.layers import Embedding, Flatten, Dense\n",
        "import os\n",
        "from contextlib import redirect_stdout\n",
        "import time\n",
        "start_time = time.time()"
      ],
      "metadata": {
        "id": "7oNzWQUc6CwG"
      },
      "execution_count": 2,
      "outputs": []
    },
    {
      "cell_type": "code",
      "source": [
        "results_dir = Path('results').joinpath('model_1')\n",
        "results_dir.mkdir(parents=True, exist_ok=True)\n",
        "imdb_dir = Path('dsc650/data/external/imdb/aclImdb/')\n",
        "test_dir = os.path.join(imdb_dir, 'test')\n",
        "train_dir = os.path.join(imdb_dir, 'train')"
      ],
      "metadata": {
        "id": "BXmWKHFp6Kfz"
      },
      "execution_count": 6,
      "outputs": []
    },
    {
      "cell_type": "code",
      "source": [
        "training_samples = 200\n",
        "maxlen = 100\n",
        "max_words = 1000\n",
        "embedding_dim = 100\n",
        "training_samples = 200\n",
        "validation_samples = 10000"
      ],
      "metadata": {
        "id": "Q-8bLua96NZS"
      },
      "execution_count": 4,
      "outputs": []
    },
    {
      "cell_type": "code",
      "source": [
        "labels = []\n",
        "texts = []\n",
        "for label_type in ['neg', 'pos']:\n",
        "    dir_name = os.path.join(test_dir, label_type)\n",
        "    for fname in sorted(os.listdir(dir_name)):\n",
        "        if fname[-4:] == '.txt':\n",
        "            f = open(os.path.join(dir_name, fname), encoding=\"utf8\")\n",
        "            texts.append(f.read())\n",
        "            f.close()\n",
        "            if label_type == 'neg':\n",
        "                labels.append(0)\n",
        "            else:\n",
        "                labels.append(1)"
      ],
      "metadata": {
        "id": "pUV5hVL86P6e"
      },
      "execution_count": 7,
      "outputs": []
    },
    {
      "cell_type": "code",
      "source": [
        "tokenizer = Tokenizer(num_words=max_words)\n",
        "tokenizer.fit_on_texts(texts)\n",
        "sequences = tokenizer.texts_to_sequences(texts)\n",
        "word_index = tokenizer.word_index\n",
        "print('Found %s unique tokens.' % len(word_index))\n",
        "data = pad_sequences(sequences, maxlen=maxlen)\n",
        "labels = np.asarray(labels)\n",
        "print('Shape of data tensor:', data.shape)\n",
        "print('Shape of label tensor:', labels.shape)"
      ],
      "metadata": {
        "colab": {
          "base_uri": "https://localhost:8080/"
        },
        "id": "Jo9A90Ce6ln5",
        "outputId": "c04cbd61-9274-45e4-86e1-901911d5004f"
      },
      "execution_count": 8,
      "outputs": [
        {
          "output_type": "stream",
          "name": "stdout",
          "text": [
            "Found 87393 unique tokens.\n",
            "Shape of data tensor: (25000, 100)\n",
            "Shape of label tensor: (25000,)\n"
          ]
        }
      ]
    },
    {
      "cell_type": "code",
      "source": [
        "indices = np.arange(data.shape[0])\n",
        "np.random.shuffle(indices)\n",
        "data = data[indices]\n",
        "labels = labels[indices]\n",
        "x_train = data[:training_samples]\n",
        "y_train = labels[:training_samples]\n",
        "x_val = data[training_samples: training_samples + validation_samples]\n",
        "y_val = labels[training_samples: training_samples + validation_samples]"
      ],
      "metadata": {
        "id": "J6_KUTgn6zxv"
      },
      "execution_count": 9,
      "outputs": []
    },
    {
      "cell_type": "code",
      "source": [
        "model = Sequential()\n",
        "model.add(Embedding(max_words, embedding_dim, input_length=maxlen))\n",
        "model.add(Flatten())\n",
        "model.add(Dense(32,activation='relu'))\n",
        "model.add(Dense(1, activation='sigmoid'))"
      ],
      "metadata": {
        "id": "Qi4xgYqT64BG"
      },
      "execution_count": 10,
      "outputs": []
    },
    {
      "cell_type": "code",
      "source": [
        "# Save the summary to file\n",
        "summary_file = results_dir.joinpath('EEarl_assignment_10.2_ModelSummary.txt')\n",
        "with open(summary_file, 'w') as f:\n",
        "    with redirect_stdout(f):\n",
        "        model.summary()\n",
        "model.compile(optimizer='rmsprop', loss='binary_crossentropy', metrics=['acc'])\n",
        "history=model.fit(x_train, y_train, epochs=10, batch_size=32,validation_data=(x_val, y_val))\n",
        "result_model_file = results_dir.joinpath('pre_trained_glove_model.h5')\n",
        "model.save_weights(result_model_file)"
      ],
      "metadata": {
        "colab": {
          "base_uri": "https://localhost:8080/"
        },
        "id": "kj5BoZoK67WF",
        "outputId": "d7e27271-f81f-4ae0-f6dd-dcf7c1b0c5a7"
      },
      "execution_count": 11,
      "outputs": [
        {
          "output_type": "stream",
          "name": "stdout",
          "text": [
            "Epoch 1/10\n",
            "7/7 [==============================] - 2s 142ms/step - loss: 0.6964 - acc: 0.5000 - val_loss: 0.6917 - val_acc: 0.5268\n",
            "Epoch 2/10\n",
            "7/7 [==============================] - 1s 104ms/step - loss: 0.4833 - acc: 0.9950 - val_loss: 0.6945 - val_acc: 0.5233\n",
            "Epoch 3/10\n",
            "7/7 [==============================] - 1s 114ms/step - loss: 0.2745 - acc: 0.9900 - val_loss: 0.7135 - val_acc: 0.5216\n",
            "Epoch 4/10\n",
            "7/7 [==============================] - 1s 116ms/step - loss: 0.1336 - acc: 0.9950 - val_loss: 0.7041 - val_acc: 0.5302\n",
            "Epoch 5/10\n",
            "7/7 [==============================] - 1s 114ms/step - loss: 0.0705 - acc: 1.0000 - val_loss: 0.7138 - val_acc: 0.5286\n",
            "Epoch 6/10\n",
            "7/7 [==============================] - 1s 110ms/step - loss: 0.0384 - acc: 1.0000 - val_loss: 0.7247 - val_acc: 0.5338\n",
            "Epoch 7/10\n",
            "7/7 [==============================] - 1s 112ms/step - loss: 0.0221 - acc: 1.0000 - val_loss: 0.7381 - val_acc: 0.5350\n",
            "Epoch 8/10\n",
            "7/7 [==============================] - 1s 114ms/step - loss: 0.0133 - acc: 1.0000 - val_loss: 0.7442 - val_acc: 0.5347\n",
            "Epoch 9/10\n",
            "7/7 [==============================] - 1s 114ms/step - loss: 0.0079 - acc: 1.0000 - val_loss: 0.7554 - val_acc: 0.5356\n",
            "Epoch 10/10\n",
            "7/7 [==============================] - 1s 114ms/step - loss: 0.0049 - acc: 1.0000 - val_loss: 0.7811 - val_acc: 0.5291\n"
          ]
        }
      ]
    },
    {
      "cell_type": "code",
      "source": [
        " # Place plot here\n",
        "acc = history.history['acc']\n",
        "val_acc = history.history['val_acc']\n",
        "loss = history.history['loss']\n",
        "val_loss = history.history['val_loss']\n",
        "epochs = range(1, len(acc) + 1)\n",
        "plt.plot(epochs, acc, 'bo', label='Training acc')\n",
        "plt.plot(epochs, val_acc, 'b', label='Validation acc')\n",
        "plt.title('Training and validation accuracy')\n",
        "plt.legend()\n",
        "plt.figure()\n",
        "plt.plot(epochs, loss, 'bo', label='Training loss')\n",
        "plt.plot(epochs, val_loss, 'b', label='Validation loss')\n",
        "plt.title('Training and validation loss')\n",
        "plt.legend()\n",
        "img_file = results_dir.joinpath('Assignment_10.2_Model Accuracy Validation.png')\n",
        "plt.savefig(img_file)\n",
        "plt.show()"
      ],
      "metadata": {
        "colab": {
          "base_uri": "https://localhost:8080/",
          "height": 545
        },
        "id": "NoGMSkSL7WBu",
        "outputId": "94c3d69e-5891-4d6f-ef3c-839053c6df80"
      },
      "execution_count": 12,
      "outputs": [
        {
          "output_type": "display_data",
          "data": {
            "text/plain": [
              "<Figure size 432x288 with 1 Axes>"
            ],
            "image/png": "[encoded data removed]"
          },
          "metadata": {
            "needs_background": "light"
          }
        },
        {
          "output_type": "display_data",
          "data": {
            "text/plain": [
              "<Figure size 432x288 with 1 Axes>"
            ],
            "image/png": "[encoded data removed]"
          },
          "metadata": {
            "needs_background": "light"
          }
        }
      ]
    },
    {
      "cell_type": "code",
      "source": [
        "labels=[]\n",
        "texts=[]\n",
        "for label_type in ['neg', 'pos']:\n",
        "    dir_name = os.path.join(test_dir, label_type)\n",
        "    for fname in sorted(os.listdir(dir_name)):\n",
        "        if fname[-4:] == '.txt':\n",
        "            f = open(os.path.join(dir_name, fname), encoding=\"utf8\")\n",
        "            texts.append(f.read())\n",
        "            f.close()\n",
        "            if label_type == 'neg':\n",
        "                labels.append(0)\n",
        "            else:\n",
        "                labels.append(1)\n",
        "                \n",
        "sequence = tokenizer.texts_to_sequences(texts)\n",
        "x_test = pad_sequences(sequences, maxlen=maxlen)\n",
        "y_test = np.asarray(labels)\n",
        "model.load_weights(result_model_file)\n",
        "eval = model.evaluate(x_test, y_test)\n",
        "print(\"\")\n",
        "print(eval)\n",
        "print(\"Complete: --- %s seconds has passed ---\" % (time.time() - start_time))"
      ],
      "metadata": {
        "colab": {
          "base_uri": "https://localhost:8080/"
        },
        "id": "6iDu-Azy7cZ1",
        "outputId": "772f48c6-498c-4069-99a9-1e3b65e3c2ca"
      },
      "execution_count": 14,
      "outputs": [
        {
          "output_type": "stream",
          "name": "stdout",
          "text": [
            "782/782 [==============================] - 2s 2ms/step - loss: 0.7750 - acc: 0.5366\n",
            "\n",
            "[0.7750154733657837, 0.5365999937057495]\n",
            "Complete: --- 374.13334441185 seconds has passed ---\n"
          ]
        }
      ]
    }
  ]
}
{
 "cells": [
  {
   "cell_type": "markdown",
   "id": "91b8a3b1",
   "metadata": {},
   "source": [
    "## Course Project -- Milestone 2\n",
    "### Elizabeth Earl \n",
    "### DSC550-T301"
   ]
  },
  {
   "cell_type": "code",
   "execution_count": 177,
   "id": "4bef4469",
   "metadata": {},
   "outputs": [],
   "source": [
    "import pandas as pd\n",
    "books = pd.read_csv('books09_19.csv')\n",
    "electronics = pd.read_csv('electronics2021.csv')"
   ]
  },
  {
   "cell_type": "code",
   "execution_count": 195,
   "id": "4bd497bb",
   "metadata": {},
   "outputs": [
    {
     "data": {
      "text/html": [
       "<div>\n",
       "<style scoped>\n",
       "    .dataframe tbody tr th:only-of-type {\n",
       "        vertical-align: middle;\n",
       "    }\n",
       "\n",
       "    .dataframe tbody tr th {\n",
       "        vertical-align: top;\n",
       "    }\n",
       "\n",
       "    .dataframe thead th {\n",
       "        text-align: right;\n",
       "    }\n",
       "</style>\n",
       "<table border=\"1\" class=\"dataframe\">\n",
       "  <thead>\n",
       "    <tr style=\"text-align: right;\">\n",
       "      <th></th>\n",
       "      <th>Name</th>\n",
       "      <th>Author</th>\n",
       "      <th>Rating</th>\n",
       "      <th>Reviews</th>\n",
       "      <th>Price</th>\n",
       "      <th>Year</th>\n",
       "      <th>Genre</th>\n",
       "    </tr>\n",
       "  </thead>\n",
       "  <tbody>\n",
       "    <tr>\n",
       "      <th>534</th>\n",
       "      <td>Where the Crawdads Sing</td>\n",
       "      <td>Delia Owens</td>\n",
       "      <td>4.8</td>\n",
       "      <td>87841</td>\n",
       "      <td>15</td>\n",
       "      <td>2019</td>\n",
       "      <td>Fiction</td>\n",
       "    </tr>\n",
       "    <tr>\n",
       "      <th>382</th>\n",
       "      <td>The Girl on the Train</td>\n",
       "      <td>Paula Hawkins</td>\n",
       "      <td>4.1</td>\n",
       "      <td>79446</td>\n",
       "      <td>18</td>\n",
       "      <td>2015</td>\n",
       "      <td>Fiction</td>\n",
       "    </tr>\n",
       "    <tr>\n",
       "      <th>383</th>\n",
       "      <td>The Girl on the Train</td>\n",
       "      <td>Paula Hawkins</td>\n",
       "      <td>4.1</td>\n",
       "      <td>79446</td>\n",
       "      <td>7</td>\n",
       "      <td>2016</td>\n",
       "      <td>Fiction</td>\n",
       "    </tr>\n",
       "    <tr>\n",
       "      <th>32</th>\n",
       "      <td>Becoming</td>\n",
       "      <td>Michelle Obama</td>\n",
       "      <td>4.8</td>\n",
       "      <td>61133</td>\n",
       "      <td>11</td>\n",
       "      <td>2018</td>\n",
       "      <td>Non Fiction</td>\n",
       "    </tr>\n",
       "    <tr>\n",
       "      <th>33</th>\n",
       "      <td>Becoming</td>\n",
       "      <td>Michelle Obama</td>\n",
       "      <td>4.8</td>\n",
       "      <td>61133</td>\n",
       "      <td>11</td>\n",
       "      <td>2019</td>\n",
       "      <td>Non Fiction</td>\n",
       "    </tr>\n",
       "  </tbody>\n",
       "</table>\n",
       "</div>"
      ],
      "text/plain": [
       "                        Name          Author  Rating  Reviews  Price  Year  \\\n",
       "534  Where the Crawdads Sing     Delia Owens     4.8    87841     15  2019   \n",
       "382    The Girl on the Train   Paula Hawkins     4.1    79446     18  2015   \n",
       "383    The Girl on the Train   Paula Hawkins     4.1    79446      7  2016   \n",
       "32                  Becoming  Michelle Obama     4.8    61133     11  2018   \n",
       "33                  Becoming  Michelle Obama     4.8    61133     11  2019   \n",
       "\n",
       "           Genre  \n",
       "534      Fiction  \n",
       "382      Fiction  \n",
       "383      Fiction  \n",
       "32   Non Fiction  \n",
       "33   Non Fiction  "
      ]
     },
     "execution_count": 195,
     "metadata": {},
     "output_type": "execute_result"
    }
   ],
   "source": [
    "books.head()"
   ]
  },
  {
   "cell_type": "code",
   "execution_count": 179,
   "id": "c32de8a9",
   "metadata": {},
   "outputs": [
    {
     "data": {
      "text/html": [
       "<div>\n",
       "<style scoped>\n",
       "    .dataframe tbody tr th:only-of-type {\n",
       "        vertical-align: middle;\n",
       "    }\n",
       "\n",
       "    .dataframe tbody tr th {\n",
       "        vertical-align: top;\n",
       "    }\n",
       "\n",
       "    .dataframe thead th {\n",
       "        text-align: right;\n",
       "    }\n",
       "</style>\n",
       "<table border=\"1\" class=\"dataframe\">\n",
       "  <thead>\n",
       "    <tr style=\"text-align: right;\">\n",
       "      <th></th>\n",
       "      <th>date</th>\n",
       "      <th>number</th>\n",
       "      <th>name</th>\n",
       "      <th>rating</th>\n",
       "      <th>n_reviews</th>\n",
       "      <th>price</th>\n",
       "    </tr>\n",
       "  </thead>\n",
       "  <tbody>\n",
       "    <tr>\n",
       "      <th>0</th>\n",
       "      <td>2021-02-01</td>\n",
       "      <td>1</td>\n",
       "      <td>Fire TV Stick 4K streaming device with Alexa V...</td>\n",
       "      <td>4.7</td>\n",
       "      <td>512,797</td>\n",
       "      <td>$39.99</td>\n",
       "    </tr>\n",
       "    <tr>\n",
       "      <th>1</th>\n",
       "      <td>2021-02-01</td>\n",
       "      <td>2</td>\n",
       "      <td>Amazon Smart Plug, works with Alexa – A Certif...</td>\n",
       "      <td>4.7</td>\n",
       "      <td>328,652</td>\n",
       "      <td>$24.99</td>\n",
       "    </tr>\n",
       "    <tr>\n",
       "      <th>2</th>\n",
       "      <td>2021-02-01</td>\n",
       "      <td>3</td>\n",
       "      <td>Echo Show 5 -- Smart display with Alexa – stay...</td>\n",
       "      <td>4.6</td>\n",
       "      <td>298,030</td>\n",
       "      <td>$44.99</td>\n",
       "    </tr>\n",
       "    <tr>\n",
       "      <th>3</th>\n",
       "      <td>2021-02-01</td>\n",
       "      <td>4</td>\n",
       "      <td>All-new Echo Dot (4th Gen, 2020 release) | Sma...</td>\n",
       "      <td>4.7</td>\n",
       "      <td>138,241</td>\n",
       "      <td>$44.99</td>\n",
       "    </tr>\n",
       "    <tr>\n",
       "      <th>4</th>\n",
       "      <td>2021-02-01</td>\n",
       "      <td>5</td>\n",
       "      <td>Roku Streaming Stick+ | HD/4K/HDR Streaming De...</td>\n",
       "      <td>4.7</td>\n",
       "      <td>62,702</td>\n",
       "      <td>$39.00</td>\n",
       "    </tr>\n",
       "  </tbody>\n",
       "</table>\n",
       "</div>"
      ],
      "text/plain": [
       "         date  number                                               name  \\\n",
       "0  2021-02-01       1  Fire TV Stick 4K streaming device with Alexa V...   \n",
       "1  2021-02-01       2  Amazon Smart Plug, works with Alexa – A Certif...   \n",
       "2  2021-02-01       3  Echo Show 5 -- Smart display with Alexa – stay...   \n",
       "3  2021-02-01       4  All-new Echo Dot (4th Gen, 2020 release) | Sma...   \n",
       "4  2021-02-01       5  Roku Streaming Stick+ | HD/4K/HDR Streaming De...   \n",
       "\n",
       "  rating n_reviews   price  \n",
       "0    4.7   512,797  $39.99  \n",
       "1    4.7   328,652  $24.99  \n",
       "2    4.6   298,030  $44.99  \n",
       "3    4.7   138,241  $44.99  \n",
       "4    4.7    62,702  $39.00  "
      ]
     },
     "execution_count": 179,
     "metadata": {},
     "output_type": "execute_result"
    }
   ],
   "source": [
    "electronics.head()"
   ]
  },
  {
   "cell_type": "markdown",
   "id": "19144a85",
   "metadata": {},
   "source": [
    "### After adding a new dataset containing top 2021 electronics it is evident the date isnt necessary as the book dataset only deals in year values. "
   ]
  },
  {
   "cell_type": "code",
   "execution_count": 180,
   "id": "027d0c79",
   "metadata": {},
   "outputs": [
    {
     "data": {
      "text/html": [
       "<div>\n",
       "<style scoped>\n",
       "    .dataframe tbody tr th:only-of-type {\n",
       "        vertical-align: middle;\n",
       "    }\n",
       "\n",
       "    .dataframe tbody tr th {\n",
       "        vertical-align: top;\n",
       "    }\n",
       "\n",
       "    .dataframe thead th {\n",
       "        text-align: right;\n",
       "    }\n",
       "</style>\n",
       "<table border=\"1\" class=\"dataframe\">\n",
       "  <thead>\n",
       "    <tr style=\"text-align: right;\">\n",
       "      <th></th>\n",
       "      <th>Year</th>\n",
       "      <th>number</th>\n",
       "      <th>name</th>\n",
       "      <th>rating</th>\n",
       "      <th>n_reviews</th>\n",
       "      <th>price</th>\n",
       "    </tr>\n",
       "  </thead>\n",
       "  <tbody>\n",
       "    <tr>\n",
       "      <th>0</th>\n",
       "      <td>2021</td>\n",
       "      <td>1</td>\n",
       "      <td>Fire TV Stick 4K streaming device with Alexa V...</td>\n",
       "      <td>4.7</td>\n",
       "      <td>512,797</td>\n",
       "      <td>$39.99</td>\n",
       "    </tr>\n",
       "    <tr>\n",
       "      <th>1</th>\n",
       "      <td>2021</td>\n",
       "      <td>2</td>\n",
       "      <td>Amazon Smart Plug, works with Alexa – A Certif...</td>\n",
       "      <td>4.7</td>\n",
       "      <td>328,652</td>\n",
       "      <td>$24.99</td>\n",
       "    </tr>\n",
       "    <tr>\n",
       "      <th>2</th>\n",
       "      <td>2021</td>\n",
       "      <td>3</td>\n",
       "      <td>Echo Show 5 -- Smart display with Alexa – stay...</td>\n",
       "      <td>4.6</td>\n",
       "      <td>298,030</td>\n",
       "      <td>$44.99</td>\n",
       "    </tr>\n",
       "    <tr>\n",
       "      <th>3</th>\n",
       "      <td>2021</td>\n",
       "      <td>4</td>\n",
       "      <td>All-new Echo Dot (4th Gen, 2020 release) | Sma...</td>\n",
       "      <td>4.7</td>\n",
       "      <td>138,241</td>\n",
       "      <td>$44.99</td>\n",
       "    </tr>\n",
       "    <tr>\n",
       "      <th>4</th>\n",
       "      <td>2021</td>\n",
       "      <td>5</td>\n",
       "      <td>Roku Streaming Stick+ | HD/4K/HDR Streaming De...</td>\n",
       "      <td>4.7</td>\n",
       "      <td>62,702</td>\n",
       "      <td>$39.00</td>\n",
       "    </tr>\n",
       "  </tbody>\n",
       "</table>\n",
       "</div>"
      ],
      "text/plain": [
       "   Year  number                                               name rating  \\\n",
       "0  2021       1  Fire TV Stick 4K streaming device with Alexa V...    4.7   \n",
       "1  2021       2  Amazon Smart Plug, works with Alexa – A Certif...    4.7   \n",
       "2  2021       3  Echo Show 5 -- Smart display with Alexa – stay...    4.6   \n",
       "3  2021       4  All-new Echo Dot (4th Gen, 2020 release) | Sma...    4.7   \n",
       "4  2021       5  Roku Streaming Stick+ | HD/4K/HDR Streaming De...    4.7   \n",
       "\n",
       "  n_reviews   price  \n",
       "0   512,797  $39.99  \n",
       "1   328,652  $24.99  \n",
       "2   298,030  $44.99  \n",
       "3   138,241  $44.99  \n",
       "4    62,702  $39.00  "
      ]
     },
     "execution_count": 180,
     "metadata": {},
     "output_type": "execute_result"
    }
   ],
   "source": [
    "electronics['date'] = pd.DatetimeIndex(electronics['date']).year\n",
    "electronics = electronics.rename(columns = {'date':'Year'})\n",
    "electronics.head()"
   ]
  },
  {
   "cell_type": "markdown",
   "id": "cde8c21d",
   "metadata": {},
   "source": [
    "### Do we have any null/NaN values in either dataframe?"
   ]
  },
  {
   "cell_type": "code",
   "execution_count": 181,
   "id": "ef564b7a",
   "metadata": {},
   "outputs": [
    {
     "data": {
      "text/html": [
       "<div>\n",
       "<style scoped>\n",
       "    .dataframe tbody tr th:only-of-type {\n",
       "        vertical-align: middle;\n",
       "    }\n",
       "\n",
       "    .dataframe tbody tr th {\n",
       "        vertical-align: top;\n",
       "    }\n",
       "\n",
       "    .dataframe thead th {\n",
       "        text-align: right;\n",
       "    }\n",
       "</style>\n",
       "<table border=\"1\" class=\"dataframe\">\n",
       "  <thead>\n",
       "    <tr style=\"text-align: right;\">\n",
       "      <th></th>\n",
       "      <th>Year</th>\n",
       "      <th>number</th>\n",
       "      <th>name</th>\n",
       "      <th>rating</th>\n",
       "      <th>n_reviews</th>\n",
       "      <th>price</th>\n",
       "    </tr>\n",
       "  </thead>\n",
       "  <tbody>\n",
       "  </tbody>\n",
       "</table>\n",
       "</div>"
      ],
      "text/plain": [
       "Empty DataFrame\n",
       "Columns: [Year, number, name, rating, n_reviews, price]\n",
       "Index: []"
      ]
     },
     "execution_count": 181,
     "metadata": {},
     "output_type": "execute_result"
    }
   ],
   "source": [
    "electronics[electronics.isnull().any(axis=1)] #displaying if any rows have NaN values"
   ]
  },
  {
   "cell_type": "code",
   "execution_count": 182,
   "id": "98f8f88a",
   "metadata": {},
   "outputs": [
    {
     "data": {
      "text/html": [
       "<div>\n",
       "<style scoped>\n",
       "    .dataframe tbody tr th:only-of-type {\n",
       "        vertical-align: middle;\n",
       "    }\n",
       "\n",
       "    .dataframe tbody tr th {\n",
       "        vertical-align: top;\n",
       "    }\n",
       "\n",
       "    .dataframe thead th {\n",
       "        text-align: right;\n",
       "    }\n",
       "</style>\n",
       "<table border=\"1\" class=\"dataframe\">\n",
       "  <thead>\n",
       "    <tr style=\"text-align: right;\">\n",
       "      <th></th>\n",
       "      <th>Name</th>\n",
       "      <th>Author</th>\n",
       "      <th>User Rating</th>\n",
       "      <th>Reviews</th>\n",
       "      <th>Price</th>\n",
       "      <th>Year</th>\n",
       "      <th>Genre</th>\n",
       "    </tr>\n",
       "  </thead>\n",
       "  <tbody>\n",
       "  </tbody>\n",
       "</table>\n",
       "</div>"
      ],
      "text/plain": [
       "Empty DataFrame\n",
       "Columns: [Name, Author, User Rating, Reviews, Price, Year, Genre]\n",
       "Index: []"
      ]
     },
     "execution_count": 182,
     "metadata": {},
     "output_type": "execute_result"
    }
   ],
   "source": [
    "books[books.isnull().any(axis=1)] #displaying if any rows have NaN values"
   ]
  },
  {
   "cell_type": "markdown",
   "id": "ab50a624",
   "metadata": {},
   "source": [
    "### Since there's no null/NaN values in either data sets I will simply drop any item(s) which have 'rating' values that are not valid/with error"
   ]
  },
  {
   "cell_type": "code",
   "execution_count": 183,
   "id": "1e0585e7",
   "metadata": {},
   "outputs": [
    {
     "name": "stdout",
     "output_type": "stream",
     "text": [
      "(18100, 6) object (550, 7) float64\n"
     ]
    }
   ],
   "source": [
    "print(electronics.shape,electronics['rating'].dtypes,\n",
    "books.shape, books['User Rating'].dtypes)"
   ]
  },
  {
   "cell_type": "code",
   "execution_count": 184,
   "id": "15eaaa2c",
   "metadata": {},
   "outputs": [
    {
     "data": {
      "text/plain": [
       "(17959, 6)"
      ]
     },
     "execution_count": 184,
     "metadata": {},
     "output_type": "execute_result"
    }
   ],
   "source": [
    "#because the rating column is an object it is assumed theres an error in row, \n",
    "# so I will drop if character count is over 3 \n",
    "electronics.drop((electronics[(electronics['rating'].map(lambda calc: len(calc)) > 3)]).index, inplace = True)\n",
    "electronics['rating'] = electronics['rating'].astype(float, errors = 'raise')\n",
    "electronics.shape"
   ]
  },
  {
   "cell_type": "code",
   "execution_count": 185,
   "id": "ab1592b4",
   "metadata": {},
   "outputs": [
    {
     "data": {
      "text/plain": [
       "(550, 7)"
      ]
     },
     "execution_count": 185,
     "metadata": {},
     "output_type": "execute_result"
    }
   ],
   "source": [
    "#user rating is a float as expected, so any non float, or under 2.0 wil be dropped (as 2.0 is the lowest rating we will accept)\n",
    "books = books[(books['User Rating'] > 2.0) | (books['User Rating'] != float) ]\n",
    "books.shape"
   ]
  },
  {
   "cell_type": "code",
   "execution_count": 186,
   "id": "3fe1ed37",
   "metadata": {},
   "outputs": [
    {
     "name": "stdout",
     "output_type": "stream",
     "text": [
      "11953.281818181818 77220.90511721143\n",
      "(17959, 6) (550, 7)\n"
     ]
    }
   ],
   "source": [
    "bookReviews =books['Reviews'].mean()\n",
    "electronics['n_reviews'] = electronics['n_reviews'].str.replace(',','')\n",
    "#electronics['n_reviews'] = electronics['n_reviews'].astype(float, errors = 'raise')\n",
    "electronics['n_reviews']= pd.to_numeric(electronics['n_reviews'],errors = 'coerce')\n",
    "elecReviews = electronics['n_reviews'].mean()\n",
    "print(bookReviews, elecReviews)\n",
    "print(electronics.shape,books.shape)"
   ]
  },
  {
   "cell_type": "markdown",
   "id": "d83034e1",
   "metadata": {},
   "source": [
    "### Only want the values to be included that are above the mean value"
   ]
  },
  {
   "cell_type": "code",
   "execution_count": 187,
   "id": "6dacaec5",
   "metadata": {},
   "outputs": [
    {
     "name": "stdout",
     "output_type": "stream",
     "text": [
      "(3957, 6) (183, 7)\n"
     ]
    }
   ],
   "source": [
    "books = books[(books['Reviews'] > 11953)]\n",
    "electronics = electronics[(electronics['n_reviews'] > 77220)]\n",
    "print(electronics.shape,books.shape)"
   ]
  },
  {
   "cell_type": "code",
   "execution_count": 188,
   "id": "5e4dd6d2",
   "metadata": {},
   "outputs": [
    {
     "data": {
      "text/html": [
       "<div>\n",
       "<style scoped>\n",
       "    .dataframe tbody tr th:only-of-type {\n",
       "        vertical-align: middle;\n",
       "    }\n",
       "\n",
       "    .dataframe tbody tr th {\n",
       "        vertical-align: top;\n",
       "    }\n",
       "\n",
       "    .dataframe thead th {\n",
       "        text-align: right;\n",
       "    }\n",
       "</style>\n",
       "<table border=\"1\" class=\"dataframe\">\n",
       "  <thead>\n",
       "    <tr style=\"text-align: right;\">\n",
       "      <th></th>\n",
       "      <th>Name</th>\n",
       "      <th>Author</th>\n",
       "      <th>User Rating</th>\n",
       "      <th>Reviews</th>\n",
       "      <th>Price</th>\n",
       "      <th>Year</th>\n",
       "      <th>Genre</th>\n",
       "    </tr>\n",
       "  </thead>\n",
       "  <tbody>\n",
       "    <tr>\n",
       "      <th>534</th>\n",
       "      <td>Where the Crawdads Sing</td>\n",
       "      <td>Delia Owens</td>\n",
       "      <td>4.8</td>\n",
       "      <td>87841</td>\n",
       "      <td>15</td>\n",
       "      <td>2019</td>\n",
       "      <td>Fiction</td>\n",
       "    </tr>\n",
       "    <tr>\n",
       "      <th>382</th>\n",
       "      <td>The Girl on the Train</td>\n",
       "      <td>Paula Hawkins</td>\n",
       "      <td>4.1</td>\n",
       "      <td>79446</td>\n",
       "      <td>18</td>\n",
       "      <td>2015</td>\n",
       "      <td>Fiction</td>\n",
       "    </tr>\n",
       "    <tr>\n",
       "      <th>383</th>\n",
       "      <td>The Girl on the Train</td>\n",
       "      <td>Paula Hawkins</td>\n",
       "      <td>4.1</td>\n",
       "      <td>79446</td>\n",
       "      <td>7</td>\n",
       "      <td>2016</td>\n",
       "      <td>Fiction</td>\n",
       "    </tr>\n",
       "    <tr>\n",
       "      <th>32</th>\n",
       "      <td>Becoming</td>\n",
       "      <td>Michelle Obama</td>\n",
       "      <td>4.8</td>\n",
       "      <td>61133</td>\n",
       "      <td>11</td>\n",
       "      <td>2018</td>\n",
       "      <td>Non Fiction</td>\n",
       "    </tr>\n",
       "    <tr>\n",
       "      <th>33</th>\n",
       "      <td>Becoming</td>\n",
       "      <td>Michelle Obama</td>\n",
       "      <td>4.8</td>\n",
       "      <td>61133</td>\n",
       "      <td>11</td>\n",
       "      <td>2019</td>\n",
       "      <td>Non Fiction</td>\n",
       "    </tr>\n",
       "  </tbody>\n",
       "</table>\n",
       "</div>"
      ],
      "text/plain": [
       "                        Name          Author  User Rating  Reviews  Price  \\\n",
       "534  Where the Crawdads Sing     Delia Owens          4.8    87841     15   \n",
       "382    The Girl on the Train   Paula Hawkins          4.1    79446     18   \n",
       "383    The Girl on the Train   Paula Hawkins          4.1    79446      7   \n",
       "32                  Becoming  Michelle Obama          4.8    61133     11   \n",
       "33                  Becoming  Michelle Obama          4.8    61133     11   \n",
       "\n",
       "     Year        Genre  \n",
       "534  2019      Fiction  \n",
       "382  2015      Fiction  \n",
       "383  2016      Fiction  \n",
       "32   2018  Non Fiction  \n",
       "33   2019  Non Fiction  "
      ]
     },
     "execution_count": 188,
     "metadata": {},
     "output_type": "execute_result"
    }
   ],
   "source": [
    "books = books.sort_values('Reviews', ascending=False)\n",
    "books.head()"
   ]
  },
  {
   "cell_type": "code",
   "execution_count": 189,
   "id": "36c4503f",
   "metadata": {},
   "outputs": [
    {
     "data": {
      "text/html": [
       "<div>\n",
       "<style scoped>\n",
       "    .dataframe tbody tr th:only-of-type {\n",
       "        vertical-align: middle;\n",
       "    }\n",
       "\n",
       "    .dataframe tbody tr th {\n",
       "        vertical-align: top;\n",
       "    }\n",
       "\n",
       "    .dataframe thead th {\n",
       "        text-align: right;\n",
       "    }\n",
       "</style>\n",
       "<table border=\"1\" class=\"dataframe\">\n",
       "  <thead>\n",
       "    <tr style=\"text-align: right;\">\n",
       "      <th></th>\n",
       "      <th>Year</th>\n",
       "      <th>number</th>\n",
       "      <th>name</th>\n",
       "      <th>rating</th>\n",
       "      <th>Reviews</th>\n",
       "      <th>price</th>\n",
       "    </tr>\n",
       "  </thead>\n",
       "  <tbody>\n",
       "    <tr>\n",
       "      <th>13376</th>\n",
       "      <td>2021</td>\n",
       "      <td>77</td>\n",
       "      <td>Echo Dot (3rd Gen) - Smart speaker with Alexa ...</td>\n",
       "      <td>4.7</td>\n",
       "      <td>1154421</td>\n",
       "      <td>$34.99</td>\n",
       "    </tr>\n",
       "    <tr>\n",
       "      <th>13476</th>\n",
       "      <td>2021</td>\n",
       "      <td>77</td>\n",
       "      <td>Echo Dot (3rd Gen) - Smart speaker with Alexa ...</td>\n",
       "      <td>4.7</td>\n",
       "      <td>1154421</td>\n",
       "      <td>$34.99</td>\n",
       "    </tr>\n",
       "    <tr>\n",
       "      <th>13403</th>\n",
       "      <td>2021</td>\n",
       "      <td>4</td>\n",
       "      <td>Echo Dot (3rd Gen) - Smart speaker with Alexa ...</td>\n",
       "      <td>4.7</td>\n",
       "      <td>1154421</td>\n",
       "      <td>$24.99</td>\n",
       "    </tr>\n",
       "    <tr>\n",
       "      <th>13305</th>\n",
       "      <td>2021</td>\n",
       "      <td>6</td>\n",
       "      <td>Echo Dot (3rd Gen) - Smart speaker with Alexa ...</td>\n",
       "      <td>4.7</td>\n",
       "      <td>1151460</td>\n",
       "      <td>$24.99</td>\n",
       "    </tr>\n",
       "    <tr>\n",
       "      <th>13205</th>\n",
       "      <td>2021</td>\n",
       "      <td>6</td>\n",
       "      <td>Echo Dot (3rd Gen) - Smart speaker with Alexa ...</td>\n",
       "      <td>4.7</td>\n",
       "      <td>1150403</td>\n",
       "      <td>$24.99</td>\n",
       "    </tr>\n",
       "  </tbody>\n",
       "</table>\n",
       "</div>"
      ],
      "text/plain": [
       "       Year  number                                               name  \\\n",
       "13376  2021      77  Echo Dot (3rd Gen) - Smart speaker with Alexa ...   \n",
       "13476  2021      77  Echo Dot (3rd Gen) - Smart speaker with Alexa ...   \n",
       "13403  2021       4  Echo Dot (3rd Gen) - Smart speaker with Alexa ...   \n",
       "13305  2021       6  Echo Dot (3rd Gen) - Smart speaker with Alexa ...   \n",
       "13205  2021       6  Echo Dot (3rd Gen) - Smart speaker with Alexa ...   \n",
       "\n",
       "       rating  Reviews   price  \n",
       "13376     4.7  1154421  $34.99  \n",
       "13476     4.7  1154421  $34.99  \n",
       "13403     4.7  1154421  $24.99  \n",
       "13305     4.7  1151460  $24.99  \n",
       "13205     4.7  1150403  $24.99  "
      ]
     },
     "execution_count": 189,
     "metadata": {},
     "output_type": "execute_result"
    }
   ],
   "source": [
    "electronics = electronics.sort_values('n_reviews', ascending=False)\n",
    "electronics = electronics.rename(columns = {'n_reviews':'Reviews'})\n",
    "electronics.head()"
   ]
  },
  {
   "cell_type": "code",
   "execution_count": 190,
   "id": "1ae2e04d",
   "metadata": {},
   "outputs": [],
   "source": [
    "electronics = electronics.drop_duplicates(subset=['name', 'rating', 'Reviews'], keep='last')\n",
    "books = books.drop_duplicates(subset=['Name', 'Author', 'Reviews', 'Year'], keep='last')"
   ]
  },
  {
   "cell_type": "markdown",
   "id": "d0b4cddd",
   "metadata": {},
   "source": [
    "### Based on these results versus the books charts I used during milestone 1 I am not doing to drop duplicates if they are different year as the year can indicate the book was re released and shows progress over time <br>\n",
    "### Renaming column names to match amoung both tables"
   ]
  },
  {
   "cell_type": "code",
   "execution_count": 192,
   "id": "4111fb19",
   "metadata": {},
   "outputs": [],
   "source": [
    "electronics = electronics.rename(columns = {'number':'Rank'})\n",
    "electronics = electronics.rename(columns = {'name':'Name'})\n",
    "electronics = electronics.rename(columns = {'price':'Price'})\n",
    "electronics = electronics.rename(columns = {'rating':'Rating'})\n",
    "books = books.rename(columns = {'User Rating':'Rating'})"
   ]
  },
  {
   "cell_type": "code",
   "execution_count": 193,
   "id": "b692f19f",
   "metadata": {},
   "outputs": [
    {
     "data": {
      "text/html": [
       "<div>\n",
       "<style scoped>\n",
       "    .dataframe tbody tr th:only-of-type {\n",
       "        vertical-align: middle;\n",
       "    }\n",
       "\n",
       "    .dataframe tbody tr th {\n",
       "        vertical-align: top;\n",
       "    }\n",
       "\n",
       "    .dataframe thead th {\n",
       "        text-align: right;\n",
       "    }\n",
       "</style>\n",
       "<table border=\"1\" class=\"dataframe\">\n",
       "  <thead>\n",
       "    <tr style=\"text-align: right;\">\n",
       "      <th></th>\n",
       "      <th>Name</th>\n",
       "      <th>Author</th>\n",
       "      <th>Rating</th>\n",
       "      <th>Reviews</th>\n",
       "      <th>Price</th>\n",
       "      <th>Year</th>\n",
       "      <th>Genre</th>\n",
       "    </tr>\n",
       "  </thead>\n",
       "  <tbody>\n",
       "    <tr>\n",
       "      <th>534</th>\n",
       "      <td>Where the Crawdads Sing</td>\n",
       "      <td>Delia Owens</td>\n",
       "      <td>4.8</td>\n",
       "      <td>87841</td>\n",
       "      <td>15</td>\n",
       "      <td>2019</td>\n",
       "      <td>Fiction</td>\n",
       "    </tr>\n",
       "    <tr>\n",
       "      <th>382</th>\n",
       "      <td>The Girl on the Train</td>\n",
       "      <td>Paula Hawkins</td>\n",
       "      <td>4.1</td>\n",
       "      <td>79446</td>\n",
       "      <td>18</td>\n",
       "      <td>2015</td>\n",
       "      <td>Fiction</td>\n",
       "    </tr>\n",
       "    <tr>\n",
       "      <th>383</th>\n",
       "      <td>The Girl on the Train</td>\n",
       "      <td>Paula Hawkins</td>\n",
       "      <td>4.1</td>\n",
       "      <td>79446</td>\n",
       "      <td>7</td>\n",
       "      <td>2016</td>\n",
       "      <td>Fiction</td>\n",
       "    </tr>\n",
       "    <tr>\n",
       "      <th>32</th>\n",
       "      <td>Becoming</td>\n",
       "      <td>Michelle Obama</td>\n",
       "      <td>4.8</td>\n",
       "      <td>61133</td>\n",
       "      <td>11</td>\n",
       "      <td>2018</td>\n",
       "      <td>Non Fiction</td>\n",
       "    </tr>\n",
       "    <tr>\n",
       "      <th>33</th>\n",
       "      <td>Becoming</td>\n",
       "      <td>Michelle Obama</td>\n",
       "      <td>4.8</td>\n",
       "      <td>61133</td>\n",
       "      <td>11</td>\n",
       "      <td>2019</td>\n",
       "      <td>Non Fiction</td>\n",
       "    </tr>\n",
       "  </tbody>\n",
       "</table>\n",
       "</div>"
      ],
      "text/plain": [
       "                        Name          Author  Rating  Reviews  Price  Year  \\\n",
       "534  Where the Crawdads Sing     Delia Owens     4.8    87841     15  2019   \n",
       "382    The Girl on the Train   Paula Hawkins     4.1    79446     18  2015   \n",
       "383    The Girl on the Train   Paula Hawkins     4.1    79446      7  2016   \n",
       "32                  Becoming  Michelle Obama     4.8    61133     11  2018   \n",
       "33                  Becoming  Michelle Obama     4.8    61133     11  2019   \n",
       "\n",
       "           Genre  \n",
       "534      Fiction  \n",
       "382      Fiction  \n",
       "383      Fiction  \n",
       "32   Non Fiction  \n",
       "33   Non Fiction  "
      ]
     },
     "execution_count": 193,
     "metadata": {},
     "output_type": "execute_result"
    }
   ],
   "source": [
    "books.head()"
   ]
  },
  {
   "cell_type": "code",
   "execution_count": 194,
   "id": "f10456bc",
   "metadata": {},
   "outputs": [
    {
     "data": {
      "text/html": [
       "<div>\n",
       "<style scoped>\n",
       "    .dataframe tbody tr th:only-of-type {\n",
       "        vertical-align: middle;\n",
       "    }\n",
       "\n",
       "    .dataframe tbody tr th {\n",
       "        vertical-align: top;\n",
       "    }\n",
       "\n",
       "    .dataframe thead th {\n",
       "        text-align: right;\n",
       "    }\n",
       "</style>\n",
       "<table border=\"1\" class=\"dataframe\">\n",
       "  <thead>\n",
       "    <tr style=\"text-align: right;\">\n",
       "      <th></th>\n",
       "      <th>Year</th>\n",
       "      <th>Rank</th>\n",
       "      <th>Name</th>\n",
       "      <th>Rating</th>\n",
       "      <th>Reviews</th>\n",
       "      <th>Price</th>\n",
       "    </tr>\n",
       "  </thead>\n",
       "  <tbody>\n",
       "    <tr>\n",
       "      <th>13476</th>\n",
       "      <td>2021</td>\n",
       "      <td>77</td>\n",
       "      <td>Echo Dot (3rd Gen) - Smart speaker with Alexa ...</td>\n",
       "      <td>4.7</td>\n",
       "      <td>1154421</td>\n",
       "      <td>$34.99</td>\n",
       "    </tr>\n",
       "    <tr>\n",
       "      <th>13403</th>\n",
       "      <td>2021</td>\n",
       "      <td>4</td>\n",
       "      <td>Echo Dot (3rd Gen) - Smart speaker with Alexa ...</td>\n",
       "      <td>4.7</td>\n",
       "      <td>1154421</td>\n",
       "      <td>$24.99</td>\n",
       "    </tr>\n",
       "    <tr>\n",
       "      <th>13305</th>\n",
       "      <td>2021</td>\n",
       "      <td>6</td>\n",
       "      <td>Echo Dot (3rd Gen) - Smart speaker with Alexa ...</td>\n",
       "      <td>4.7</td>\n",
       "      <td>1151460</td>\n",
       "      <td>$24.99</td>\n",
       "    </tr>\n",
       "    <tr>\n",
       "      <th>13205</th>\n",
       "      <td>2021</td>\n",
       "      <td>6</td>\n",
       "      <td>Echo Dot (3rd Gen) - Smart speaker with Alexa ...</td>\n",
       "      <td>4.7</td>\n",
       "      <td>1150403</td>\n",
       "      <td>$24.99</td>\n",
       "    </tr>\n",
       "    <tr>\n",
       "      <th>13274</th>\n",
       "      <td>2021</td>\n",
       "      <td>75</td>\n",
       "      <td>Echo Dot (3rd Gen) - Smart speaker with Alexa ...</td>\n",
       "      <td>4.7</td>\n",
       "      <td>1150403</td>\n",
       "      <td>$24.99</td>\n",
       "    </tr>\n",
       "  </tbody>\n",
       "</table>\n",
       "</div>"
      ],
      "text/plain": [
       "       Year  Rank                                               Name  Rating  \\\n",
       "13476  2021    77  Echo Dot (3rd Gen) - Smart speaker with Alexa ...     4.7   \n",
       "13403  2021     4  Echo Dot (3rd Gen) - Smart speaker with Alexa ...     4.7   \n",
       "13305  2021     6  Echo Dot (3rd Gen) - Smart speaker with Alexa ...     4.7   \n",
       "13205  2021     6  Echo Dot (3rd Gen) - Smart speaker with Alexa ...     4.7   \n",
       "13274  2021    75  Echo Dot (3rd Gen) - Smart speaker with Alexa ...     4.7   \n",
       "\n",
       "       Reviews   Price  \n",
       "13476  1154421  $34.99  \n",
       "13403  1154421  $24.99  \n",
       "13305  1151460  $24.99  \n",
       "13205  1150403  $24.99  \n",
       "13274  1150403  $24.99  "
      ]
     },
     "execution_count": 194,
     "metadata": {},
     "output_type": "execute_result"
    }
   ],
   "source": [
    "electronics.head()"
   ]
  }
 ],
 "metadata": {
  "kernelspec": {
   "display_name": "Python 3",
   "language": "python",
   "name": "python3"
  },
  "language_info": {
   "codemirror_mode": {
    "name": "ipython",
    "version": 3
   },
   "file_extension": ".py",
   "mimetype": "text/x-python",
   "name": "python",
   "nbconvert_exporter": "python",
   "pygments_lexer": "ipython3",
   "version": "3.8.8"
  }
 },
 "nbformat": 4,
 "nbformat_minor": 5
}

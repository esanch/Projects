{
 "cells": [
  {
   "cell_type": "markdown",
   "id": "f11518c9",
   "metadata": {},
   "source": [
    "## Course Project\n",
    "### Elizabeth Earl \n",
    "### DSC550-T301"
   ]
  },
  {
   "cell_type": "markdown",
   "id": "3d06ce92",
   "metadata": {},
   "source": [
    "# Course Project -- Milestone 1"
   ]
  },
  {
   "cell_type": "markdown",
   "id": "54c0ae4f",
   "metadata": {},
   "source": [
    "# <center>You don't shop on Amazon, Amazon tells you what you need to buy</center>"
   ]
  },
  {
   "cell_type": "code",
   "execution_count": 3,
   "id": "88a8c15d",
   "metadata": {},
   "outputs": [
    {
     "data": {
      "text/html": [
       "<div>\n",
       "<style scoped>\n",
       "    .dataframe tbody tr th:only-of-type {\n",
       "        vertical-align: middle;\n",
       "    }\n",
       "\n",
       "    .dataframe tbody tr th {\n",
       "        vertical-align: top;\n",
       "    }\n",
       "\n",
       "    .dataframe thead th {\n",
       "        text-align: right;\n",
       "    }\n",
       "</style>\n",
       "<table border=\"1\" class=\"dataframe\">\n",
       "  <thead>\n",
       "    <tr style=\"text-align: right;\">\n",
       "      <th></th>\n",
       "      <th>Name</th>\n",
       "      <th>Author</th>\n",
       "      <th>User Rating</th>\n",
       "      <th>Reviews</th>\n",
       "      <th>Price</th>\n",
       "      <th>Year</th>\n",
       "      <th>Genre</th>\n",
       "    </tr>\n",
       "  </thead>\n",
       "  <tbody>\n",
       "    <tr>\n",
       "      <th>0</th>\n",
       "      <td>10-Day Green Smoothie Cleanse</td>\n",
       "      <td>JJ Smith</td>\n",
       "      <td>4.7</td>\n",
       "      <td>17350</td>\n",
       "      <td>8</td>\n",
       "      <td>2016</td>\n",
       "      <td>Non Fiction</td>\n",
       "    </tr>\n",
       "    <tr>\n",
       "      <th>1</th>\n",
       "      <td>11/22/63: A Novel</td>\n",
       "      <td>Stephen King</td>\n",
       "      <td>4.6</td>\n",
       "      <td>2052</td>\n",
       "      <td>22</td>\n",
       "      <td>2011</td>\n",
       "      <td>Fiction</td>\n",
       "    </tr>\n",
       "    <tr>\n",
       "      <th>2</th>\n",
       "      <td>12 Rules for Life: An Antidote to Chaos</td>\n",
       "      <td>Jordan B. Peterson</td>\n",
       "      <td>4.7</td>\n",
       "      <td>18979</td>\n",
       "      <td>15</td>\n",
       "      <td>2018</td>\n",
       "      <td>Non Fiction</td>\n",
       "    </tr>\n",
       "    <tr>\n",
       "      <th>3</th>\n",
       "      <td>1984 (Signet Classics)</td>\n",
       "      <td>George Orwell</td>\n",
       "      <td>4.7</td>\n",
       "      <td>21424</td>\n",
       "      <td>6</td>\n",
       "      <td>2017</td>\n",
       "      <td>Fiction</td>\n",
       "    </tr>\n",
       "    <tr>\n",
       "      <th>4</th>\n",
       "      <td>5,000 Awesome Facts (About Everything!) (Natio...</td>\n",
       "      <td>National Geographic Kids</td>\n",
       "      <td>4.8</td>\n",
       "      <td>7665</td>\n",
       "      <td>12</td>\n",
       "      <td>2019</td>\n",
       "      <td>Non Fiction</td>\n",
       "    </tr>\n",
       "  </tbody>\n",
       "</table>\n",
       "</div>"
      ],
      "text/plain": [
       "                                                Name  \\\n",
       "0                      10-Day Green Smoothie Cleanse   \n",
       "1                                  11/22/63: A Novel   \n",
       "2            12 Rules for Life: An Antidote to Chaos   \n",
       "3                             1984 (Signet Classics)   \n",
       "4  5,000 Awesome Facts (About Everything!) (Natio...   \n",
       "\n",
       "                     Author  User Rating  Reviews  Price  Year        Genre  \n",
       "0                  JJ Smith          4.7    17350      8  2016  Non Fiction  \n",
       "1              Stephen King          4.6     2052     22  2011      Fiction  \n",
       "2        Jordan B. Peterson          4.7    18979     15  2018  Non Fiction  \n",
       "3             George Orwell          4.7    21424      6  2017      Fiction  \n",
       "4  National Geographic Kids          4.8     7665     12  2019  Non Fiction  "
      ]
     },
     "execution_count": 3,
     "metadata": {},
     "output_type": "execute_result"
    }
   ],
   "source": [
    "import pandas as pd\n",
    "books = pd.read_csv('books09_19.csv')\n",
    "books.head()"
   ]
  },
  {
   "cell_type": "code",
   "execution_count": 4,
   "id": "72163ce5",
   "metadata": {},
   "outputs": [
    {
     "data": {
      "text/html": [
       "<div>\n",
       "<style scoped>\n",
       "    .dataframe tbody tr th:only-of-type {\n",
       "        vertical-align: middle;\n",
       "    }\n",
       "\n",
       "    .dataframe tbody tr th {\n",
       "        vertical-align: top;\n",
       "    }\n",
       "\n",
       "    .dataframe thead th {\n",
       "        text-align: right;\n",
       "    }\n",
       "</style>\n",
       "<table border=\"1\" class=\"dataframe\">\n",
       "  <thead>\n",
       "    <tr style=\"text-align: right;\">\n",
       "      <th></th>\n",
       "      <th>Name</th>\n",
       "      <th>Author</th>\n",
       "      <th>User Rating</th>\n",
       "      <th>Reviews</th>\n",
       "      <th>Price</th>\n",
       "      <th>Year</th>\n",
       "      <th>Genre</th>\n",
       "    </tr>\n",
       "  </thead>\n",
       "  <tbody>\n",
       "    <tr>\n",
       "      <th>431</th>\n",
       "      <td>The Magnolia Story</td>\n",
       "      <td>Chip Gaines</td>\n",
       "      <td>4.9</td>\n",
       "      <td>7861</td>\n",
       "      <td>5</td>\n",
       "      <td>2016</td>\n",
       "      <td>Non Fiction</td>\n",
       "    </tr>\n",
       "    <tr>\n",
       "      <th>87</th>\n",
       "      <td>Dog Man: Lord of the Fleas: From the Creator o...</td>\n",
       "      <td>Dav Pilkey</td>\n",
       "      <td>4.9</td>\n",
       "      <td>5470</td>\n",
       "      <td>6</td>\n",
       "      <td>2018</td>\n",
       "      <td>Fiction</td>\n",
       "    </tr>\n",
       "    <tr>\n",
       "      <th>85</th>\n",
       "      <td>Dog Man: Fetch-22: From the Creator of Captain...</td>\n",
       "      <td>Dav Pilkey</td>\n",
       "      <td>4.9</td>\n",
       "      <td>12619</td>\n",
       "      <td>8</td>\n",
       "      <td>2019</td>\n",
       "      <td>Fiction</td>\n",
       "    </tr>\n",
       "    <tr>\n",
       "      <th>84</th>\n",
       "      <td>Dog Man: Brawl of the Wild: From the Creator o...</td>\n",
       "      <td>Dav Pilkey</td>\n",
       "      <td>4.9</td>\n",
       "      <td>7235</td>\n",
       "      <td>4</td>\n",
       "      <td>2019</td>\n",
       "      <td>Fiction</td>\n",
       "    </tr>\n",
       "    <tr>\n",
       "      <th>83</th>\n",
       "      <td>Dog Man: Brawl of the Wild: From the Creator o...</td>\n",
       "      <td>Dav Pilkey</td>\n",
       "      <td>4.9</td>\n",
       "      <td>7235</td>\n",
       "      <td>4</td>\n",
       "      <td>2018</td>\n",
       "      <td>Fiction</td>\n",
       "    </tr>\n",
       "  </tbody>\n",
       "</table>\n",
       "</div>"
      ],
      "text/plain": [
       "                                                  Name       Author  \\\n",
       "431                                 The Magnolia Story  Chip Gaines   \n",
       "87   Dog Man: Lord of the Fleas: From the Creator o...   Dav Pilkey   \n",
       "85   Dog Man: Fetch-22: From the Creator of Captain...   Dav Pilkey   \n",
       "84   Dog Man: Brawl of the Wild: From the Creator o...   Dav Pilkey   \n",
       "83   Dog Man: Brawl of the Wild: From the Creator o...   Dav Pilkey   \n",
       "\n",
       "     User Rating  Reviews  Price  Year        Genre  \n",
       "431          4.9     7861      5  2016  Non Fiction  \n",
       "87           4.9     5470      6  2018      Fiction  \n",
       "85           4.9    12619      8  2019      Fiction  \n",
       "84           4.9     7235      4  2019      Fiction  \n",
       "83           4.9     7235      4  2018      Fiction  "
      ]
     },
     "execution_count": 4,
     "metadata": {},
     "output_type": "execute_result"
    }
   ],
   "source": [
    "byUser = books.sort_values('User Rating', ascending=False)\n",
    "byUser.head()"
   ]
  },
  {
   "cell_type": "code",
   "execution_count": 5,
   "id": "92b3005d",
   "metadata": {},
   "outputs": [
    {
     "data": {
      "image/png": "[encoded data removed]",
      "text/plain": [
       "<Figure size 432x288 with 1 Axes>"
      ]
     },
     "metadata": {
      "needs_background": "light"
     },
     "output_type": "display_data"
    }
   ],
   "source": [
    "import matplotlib.pyplot as plt\n",
    "plt.plot(byUser.head(15)['Name'], byUser.head(15)['Reviews'])\n",
    "plt.xlabel(\"Book Name\") \n",
    "plt.xticks(rotation=90)\n",
    "plt.ylabel(\"Total Reviews\") \n",
    "plt.title(\"Fig. 1\")\n",
    "plt.show()"
   ]
  },
  {
   "cell_type": "code",
   "execution_count": 6,
   "id": "880534c7",
   "metadata": {},
   "outputs": [
    {
     "data": {
      "text/html": [
       "<div>\n",
       "<style scoped>\n",
       "    .dataframe tbody tr th:only-of-type {\n",
       "        vertical-align: middle;\n",
       "    }\n",
       "\n",
       "    .dataframe tbody tr th {\n",
       "        vertical-align: top;\n",
       "    }\n",
       "\n",
       "    .dataframe thead th {\n",
       "        text-align: right;\n",
       "    }\n",
       "</style>\n",
       "<table border=\"1\" class=\"dataframe\">\n",
       "  <thead>\n",
       "    <tr style=\"text-align: right;\">\n",
       "      <th></th>\n",
       "      <th>Name</th>\n",
       "      <th>Author</th>\n",
       "      <th>User Rating</th>\n",
       "      <th>Reviews</th>\n",
       "      <th>Price</th>\n",
       "      <th>Year</th>\n",
       "      <th>Genre</th>\n",
       "    </tr>\n",
       "  </thead>\n",
       "  <tbody>\n",
       "    <tr>\n",
       "      <th>41</th>\n",
       "      <td>Brown Bear, Brown Bear, What Do You See?</td>\n",
       "      <td>Bill Martin Jr.</td>\n",
       "      <td>4.9</td>\n",
       "      <td>14344</td>\n",
       "      <td>5</td>\n",
       "      <td>2019</td>\n",
       "      <td>Fiction</td>\n",
       "    </tr>\n",
       "    <tr>\n",
       "      <th>84</th>\n",
       "      <td>Dog Man: Brawl of the Wild: From the Creator o...</td>\n",
       "      <td>Dav Pilkey</td>\n",
       "      <td>4.9</td>\n",
       "      <td>7235</td>\n",
       "      <td>4</td>\n",
       "      <td>2019</td>\n",
       "      <td>Fiction</td>\n",
       "    </tr>\n",
       "    <tr>\n",
       "      <th>85</th>\n",
       "      <td>Dog Man: Fetch-22: From the Creator of Captain...</td>\n",
       "      <td>Dav Pilkey</td>\n",
       "      <td>4.9</td>\n",
       "      <td>12619</td>\n",
       "      <td>8</td>\n",
       "      <td>2019</td>\n",
       "      <td>Fiction</td>\n",
       "    </tr>\n",
       "    <tr>\n",
       "      <th>86</th>\n",
       "      <td>Dog Man: For Whom the Ball Rolls: From the Cre...</td>\n",
       "      <td>Dav Pilkey</td>\n",
       "      <td>4.9</td>\n",
       "      <td>9089</td>\n",
       "      <td>8</td>\n",
       "      <td>2019</td>\n",
       "      <td>Fiction</td>\n",
       "    </tr>\n",
       "    <tr>\n",
       "      <th>155</th>\n",
       "      <td>Harry Potter and the Goblet of Fire: The Illus...</td>\n",
       "      <td>J. K. Rowling</td>\n",
       "      <td>4.9</td>\n",
       "      <td>7758</td>\n",
       "      <td>18</td>\n",
       "      <td>2019</td>\n",
       "      <td>Fiction</td>\n",
       "    </tr>\n",
       "  </tbody>\n",
       "</table>\n",
       "</div>"
      ],
      "text/plain": [
       "                                                  Name           Author  \\\n",
       "41            Brown Bear, Brown Bear, What Do You See?  Bill Martin Jr.   \n",
       "84   Dog Man: Brawl of the Wild: From the Creator o...       Dav Pilkey   \n",
       "85   Dog Man: Fetch-22: From the Creator of Captain...       Dav Pilkey   \n",
       "86   Dog Man: For Whom the Ball Rolls: From the Cre...       Dav Pilkey   \n",
       "155  Harry Potter and the Goblet of Fire: The Illus...    J. K. Rowling   \n",
       "\n",
       "     User Rating  Reviews  Price  Year    Genre  \n",
       "41           4.9    14344      5  2019  Fiction  \n",
       "84           4.9     7235      4  2019  Fiction  \n",
       "85           4.9    12619      8  2019  Fiction  \n",
       "86           4.9     9089      8  2019  Fiction  \n",
       "155          4.9     7758     18  2019  Fiction  "
      ]
     },
     "execution_count": 6,
     "metadata": {},
     "output_type": "execute_result"
    }
   ],
   "source": [
    "userYear = books.sort_values(['User Rating', 'Year'], ascending=[False, False])\n",
    "userYear.head()"
   ]
  },
  {
   "cell_type": "code",
   "execution_count": 169,
   "id": "b43964c0",
   "metadata": {},
   "outputs": [
    {
     "name": "stderr",
     "output_type": "stream",
     "text": [
      "C:\\Users\\Eearl\\anaconda3\\lib\\site-packages\\matplotlib\\backends\\backend_agg.py:238: RuntimeWarning: Glyph 146 missing from current font.\n",
      "  font.set_text(s, 0.0, flags=flags)\n",
      "C:\\Users\\Eearl\\anaconda3\\lib\\site-packages\\matplotlib\\backends\\backend_agg.py:201: RuntimeWarning: Glyph 146 missing from current font.\n",
      "  font.set_text(s, 0, flags=flags)\n"
     ]
    },
    {
     "data": {
      "image/png": "[encoded data removed]",
      "text/plain": [
       "<Figure size 432x288 with 1 Axes>"
      ]
     },
     "metadata": {
      "needs_background": "light"
     },
     "output_type": "display_data"
    }
   ],
   "source": [
    "plt.plot(userYear.head(15)['Name'], userYear.head(15)['Reviews'])\n",
    "plt.title(\"Fig. 2\")\n",
    "plt.xlabel(\"Book Name\") \n",
    "plt.xticks(rotation=90)\n",
    "plt.ylabel(\"Total Reviews\") \n",
    "plt.show()"
   ]
  },
  {
   "cell_type": "code",
   "execution_count": 170,
   "id": "b6beea5a",
   "metadata": {},
   "outputs": [
    {
     "data": {
      "image/png": "[encoded data removed]",
      "text/plain": [
       "<Figure size 432x288 with 1 Axes>"
      ]
     },
     "metadata": {
      "needs_background": "light"
     },
     "output_type": "display_data"
    }
   ],
   "source": [
    "top = byUser.head(15)\n",
    "top.plot(kind='bar', x='Name', y='User Rating')\n",
    "plt.xlabel(\"Book Name\") \n",
    "plt.xticks(rotation=90)\n",
    "plt.ylabel(\"Rating Value\") \n",
    "plt.title(\"Fig. 3\")\n",
    "plt.show()"
   ]
  },
  {
   "cell_type": "code",
   "execution_count": 171,
   "id": "b4e479e7",
   "metadata": {},
   "outputs": [
    {
     "data": {
      "image/png": "[encoded data removed]",
      "text/plain": [
       "<Figure size 432x288 with 1 Axes>"
      ]
     },
     "metadata": {
      "needs_background": "light"
     },
     "output_type": "display_data"
    }
   ],
   "source": [
    "top.plot.scatter(x = 'Name', y = 'Year')\n",
    "plt.xlabel(\"Book Name\") \n",
    "plt.xticks(rotation=90)\n",
    "plt.ylabel(\"Year Released\") \n",
    "plt.title(\"Fig. 4\")\n",
    "plt.show()"
   ]
  },
  {
   "cell_type": "markdown",
   "id": "c13485ae",
   "metadata": {},
   "source": [
    "### Conclusion\n",
    "*Because the data is hard to come by since consumer data is often rightfully protected. I am starting with using Book reviews to determine future trends*\n",
    "\n",
    "        Figure (Fig.) 1 above shows the top books from 2009-2019 based on the total reviews it received. These reviews are not a completely reliable source as we must be able to have access to each review to then determine which reviews are positive versus negative. This can greatly impact the ranking, for now I assume all reviews left are positive and similar results are given when compared against Fig. 3. Fig. 3 considers the overall rating each book received which is a score out of 5, as the top books score 4.9 max, we can compare figures to see if the assumption of reviews left being mostly positive is true. \n",
    "\n",
    "        Similarly with Fig. 2 I used the same technique as Fig. 1 but this time the recent years of the book release was considered. This is important as it will allow to pinpoint which books were positively reviewed as seen in Fig. 1 but during 2019. This can give me an idea of what people were interested in during the start of the pandemic and see what comparisons can be made. \n",
    "\n",
    "        The sole purpose of Fig. 4 is due to Fig. 3 which includes repeated name titles. At first glance this looks like a mistake but thanks to Fig. 4 we can see the same book being released multiple years. This specific graph brings up an interesting take on how successful books become based on a year they are (re)released. This is arguable my most important graph as this can lead to further insight on why books have multiyear success or why certain years had a higher number of books read. \n",
    "\n",
    "    "
   ]
  },
  {
   "cell_type": "markdown",
   "id": "b8de26e6",
   "metadata": {},
   "source": [
    "# Course Project -- Milestone 2"
   ]
  },
  {
   "cell_type": "code",
   "execution_count": 7,
   "id": "01665b66",
   "metadata": {},
   "outputs": [],
   "source": [
    "import pandas as pd\n",
    "books = pd.read_csv('books09_19.csv')\n",
    "electronics = pd.read_csv('electronics2021.csv')"
   ]
  },
  {
   "cell_type": "code",
   "execution_count": 8,
   "id": "e95e5740",
   "metadata": {},
   "outputs": [
    {
     "data": {
      "text/html": [
       "<div>\n",
       "<style scoped>\n",
       "    .dataframe tbody tr th:only-of-type {\n",
       "        vertical-align: middle;\n",
       "    }\n",
       "\n",
       "    .dataframe tbody tr th {\n",
       "        vertical-align: top;\n",
       "    }\n",
       "\n",
       "    .dataframe thead th {\n",
       "        text-align: right;\n",
       "    }\n",
       "</style>\n",
       "<table border=\"1\" class=\"dataframe\">\n",
       "  <thead>\n",
       "    <tr style=\"text-align: right;\">\n",
       "      <th></th>\n",
       "      <th>Name</th>\n",
       "      <th>Author</th>\n",
       "      <th>User Rating</th>\n",
       "      <th>Reviews</th>\n",
       "      <th>Price</th>\n",
       "      <th>Year</th>\n",
       "      <th>Genre</th>\n",
       "    </tr>\n",
       "  </thead>\n",
       "  <tbody>\n",
       "    <tr>\n",
       "      <th>0</th>\n",
       "      <td>10-Day Green Smoothie Cleanse</td>\n",
       "      <td>JJ Smith</td>\n",
       "      <td>4.7</td>\n",
       "      <td>17350</td>\n",
       "      <td>8</td>\n",
       "      <td>2016</td>\n",
       "      <td>Non Fiction</td>\n",
       "    </tr>\n",
       "    <tr>\n",
       "      <th>1</th>\n",
       "      <td>11/22/63: A Novel</td>\n",
       "      <td>Stephen King</td>\n",
       "      <td>4.6</td>\n",
       "      <td>2052</td>\n",
       "      <td>22</td>\n",
       "      <td>2011</td>\n",
       "      <td>Fiction</td>\n",
       "    </tr>\n",
       "    <tr>\n",
       "      <th>2</th>\n",
       "      <td>12 Rules for Life: An Antidote to Chaos</td>\n",
       "      <td>Jordan B. Peterson</td>\n",
       "      <td>4.7</td>\n",
       "      <td>18979</td>\n",
       "      <td>15</td>\n",
       "      <td>2018</td>\n",
       "      <td>Non Fiction</td>\n",
       "    </tr>\n",
       "    <tr>\n",
       "      <th>3</th>\n",
       "      <td>1984 (Signet Classics)</td>\n",
       "      <td>George Orwell</td>\n",
       "      <td>4.7</td>\n",
       "      <td>21424</td>\n",
       "      <td>6</td>\n",
       "      <td>2017</td>\n",
       "      <td>Fiction</td>\n",
       "    </tr>\n",
       "    <tr>\n",
       "      <th>4</th>\n",
       "      <td>5,000 Awesome Facts (About Everything!) (Natio...</td>\n",
       "      <td>National Geographic Kids</td>\n",
       "      <td>4.8</td>\n",
       "      <td>7665</td>\n",
       "      <td>12</td>\n",
       "      <td>2019</td>\n",
       "      <td>Non Fiction</td>\n",
       "    </tr>\n",
       "  </tbody>\n",
       "</table>\n",
       "</div>"
      ],
      "text/plain": [
       "                                                Name  \\\n",
       "0                      10-Day Green Smoothie Cleanse   \n",
       "1                                  11/22/63: A Novel   \n",
       "2            12 Rules for Life: An Antidote to Chaos   \n",
       "3                             1984 (Signet Classics)   \n",
       "4  5,000 Awesome Facts (About Everything!) (Natio...   \n",
       "\n",
       "                     Author  User Rating  Reviews  Price  Year        Genre  \n",
       "0                  JJ Smith          4.7    17350      8  2016  Non Fiction  \n",
       "1              Stephen King          4.6     2052     22  2011      Fiction  \n",
       "2        Jordan B. Peterson          4.7    18979     15  2018  Non Fiction  \n",
       "3             George Orwell          4.7    21424      6  2017      Fiction  \n",
       "4  National Geographic Kids          4.8     7665     12  2019  Non Fiction  "
      ]
     },
     "execution_count": 8,
     "metadata": {},
     "output_type": "execute_result"
    }
   ],
   "source": [
    "books.head()"
   ]
  },
  {
   "cell_type": "code",
   "execution_count": 9,
   "id": "f95aae89",
   "metadata": {},
   "outputs": [
    {
     "data": {
      "text/html": [
       "<div>\n",
       "<style scoped>\n",
       "    .dataframe tbody tr th:only-of-type {\n",
       "        vertical-align: middle;\n",
       "    }\n",
       "\n",
       "    .dataframe tbody tr th {\n",
       "        vertical-align: top;\n",
       "    }\n",
       "\n",
       "    .dataframe thead th {\n",
       "        text-align: right;\n",
       "    }\n",
       "</style>\n",
       "<table border=\"1\" class=\"dataframe\">\n",
       "  <thead>\n",
       "    <tr style=\"text-align: right;\">\n",
       "      <th></th>\n",
       "      <th>date</th>\n",
       "      <th>number</th>\n",
       "      <th>name</th>\n",
       "      <th>rating</th>\n",
       "      <th>n_reviews</th>\n",
       "      <th>price</th>\n",
       "    </tr>\n",
       "  </thead>\n",
       "  <tbody>\n",
       "    <tr>\n",
       "      <th>0</th>\n",
       "      <td>2021-02-01</td>\n",
       "      <td>1</td>\n",
       "      <td>Fire TV Stick 4K streaming device with Alexa V...</td>\n",
       "      <td>4.7</td>\n",
       "      <td>512,797</td>\n",
       "      <td>$39.99</td>\n",
       "    </tr>\n",
       "    <tr>\n",
       "      <th>1</th>\n",
       "      <td>2021-02-01</td>\n",
       "      <td>2</td>\n",
       "      <td>Amazon Smart Plug, works with Alexa – A Certif...</td>\n",
       "      <td>4.7</td>\n",
       "      <td>328,652</td>\n",
       "      <td>$24.99</td>\n",
       "    </tr>\n",
       "    <tr>\n",
       "      <th>2</th>\n",
       "      <td>2021-02-01</td>\n",
       "      <td>3</td>\n",
       "      <td>Echo Show 5 -- Smart display with Alexa – stay...</td>\n",
       "      <td>4.6</td>\n",
       "      <td>298,030</td>\n",
       "      <td>$44.99</td>\n",
       "    </tr>\n",
       "    <tr>\n",
       "      <th>3</th>\n",
       "      <td>2021-02-01</td>\n",
       "      <td>4</td>\n",
       "      <td>All-new Echo Dot (4th Gen, 2020 release) | Sma...</td>\n",
       "      <td>4.7</td>\n",
       "      <td>138,241</td>\n",
       "      <td>$44.99</td>\n",
       "    </tr>\n",
       "    <tr>\n",
       "      <th>4</th>\n",
       "      <td>2021-02-01</td>\n",
       "      <td>5</td>\n",
       "      <td>Roku Streaming Stick+ | HD/4K/HDR Streaming De...</td>\n",
       "      <td>4.7</td>\n",
       "      <td>62,702</td>\n",
       "      <td>$39.00</td>\n",
       "    </tr>\n",
       "  </tbody>\n",
       "</table>\n",
       "</div>"
      ],
      "text/plain": [
       "         date  number                                               name  \\\n",
       "0  2021-02-01       1  Fire TV Stick 4K streaming device with Alexa V...   \n",
       "1  2021-02-01       2  Amazon Smart Plug, works with Alexa – A Certif...   \n",
       "2  2021-02-01       3  Echo Show 5 -- Smart display with Alexa – stay...   \n",
       "3  2021-02-01       4  All-new Echo Dot (4th Gen, 2020 release) | Sma...   \n",
       "4  2021-02-01       5  Roku Streaming Stick+ | HD/4K/HDR Streaming De...   \n",
       "\n",
       "  rating n_reviews   price  \n",
       "0    4.7   512,797  $39.99  \n",
       "1    4.7   328,652  $24.99  \n",
       "2    4.6   298,030  $44.99  \n",
       "3    4.7   138,241  $44.99  \n",
       "4    4.7    62,702  $39.00  "
      ]
     },
     "execution_count": 9,
     "metadata": {},
     "output_type": "execute_result"
    }
   ],
   "source": [
    "electronics.head()"
   ]
  },
  {
   "cell_type": "markdown",
   "id": "bfbed7df",
   "metadata": {},
   "source": [
    "### After adding a new dataset containing top 2021 electronics it is evident the date isnt necessary as the book dataset only deals in year values. "
   ]
  },
  {
   "cell_type": "code",
   "execution_count": 10,
   "id": "61e85503",
   "metadata": {},
   "outputs": [
    {
     "data": {
      "text/html": [
       "<div>\n",
       "<style scoped>\n",
       "    .dataframe tbody tr th:only-of-type {\n",
       "        vertical-align: middle;\n",
       "    }\n",
       "\n",
       "    .dataframe tbody tr th {\n",
       "        vertical-align: top;\n",
       "    }\n",
       "\n",
       "    .dataframe thead th {\n",
       "        text-align: right;\n",
       "    }\n",
       "</style>\n",
       "<table border=\"1\" class=\"dataframe\">\n",
       "  <thead>\n",
       "    <tr style=\"text-align: right;\">\n",
       "      <th></th>\n",
       "      <th>Year</th>\n",
       "      <th>number</th>\n",
       "      <th>name</th>\n",
       "      <th>rating</th>\n",
       "      <th>n_reviews</th>\n",
       "      <th>price</th>\n",
       "    </tr>\n",
       "  </thead>\n",
       "  <tbody>\n",
       "    <tr>\n",
       "      <th>0</th>\n",
       "      <td>2021</td>\n",
       "      <td>1</td>\n",
       "      <td>Fire TV Stick 4K streaming device with Alexa V...</td>\n",
       "      <td>4.7</td>\n",
       "      <td>512,797</td>\n",
       "      <td>$39.99</td>\n",
       "    </tr>\n",
       "    <tr>\n",
       "      <th>1</th>\n",
       "      <td>2021</td>\n",
       "      <td>2</td>\n",
       "      <td>Amazon Smart Plug, works with Alexa – A Certif...</td>\n",
       "      <td>4.7</td>\n",
       "      <td>328,652</td>\n",
       "      <td>$24.99</td>\n",
       "    </tr>\n",
       "    <tr>\n",
       "      <th>2</th>\n",
       "      <td>2021</td>\n",
       "      <td>3</td>\n",
       "      <td>Echo Show 5 -- Smart display with Alexa – stay...</td>\n",
       "      <td>4.6</td>\n",
       "      <td>298,030</td>\n",
       "      <td>$44.99</td>\n",
       "    </tr>\n",
       "    <tr>\n",
       "      <th>3</th>\n",
       "      <td>2021</td>\n",
       "      <td>4</td>\n",
       "      <td>All-new Echo Dot (4th Gen, 2020 release) | Sma...</td>\n",
       "      <td>4.7</td>\n",
       "      <td>138,241</td>\n",
       "      <td>$44.99</td>\n",
       "    </tr>\n",
       "    <tr>\n",
       "      <th>4</th>\n",
       "      <td>2021</td>\n",
       "      <td>5</td>\n",
       "      <td>Roku Streaming Stick+ | HD/4K/HDR Streaming De...</td>\n",
       "      <td>4.7</td>\n",
       "      <td>62,702</td>\n",
       "      <td>$39.00</td>\n",
       "    </tr>\n",
       "  </tbody>\n",
       "</table>\n",
       "</div>"
      ],
      "text/plain": [
       "   Year  number                                               name rating  \\\n",
       "0  2021       1  Fire TV Stick 4K streaming device with Alexa V...    4.7   \n",
       "1  2021       2  Amazon Smart Plug, works with Alexa – A Certif...    4.7   \n",
       "2  2021       3  Echo Show 5 -- Smart display with Alexa – stay...    4.6   \n",
       "3  2021       4  All-new Echo Dot (4th Gen, 2020 release) | Sma...    4.7   \n",
       "4  2021       5  Roku Streaming Stick+ | HD/4K/HDR Streaming De...    4.7   \n",
       "\n",
       "  n_reviews   price  \n",
       "0   512,797  $39.99  \n",
       "1   328,652  $24.99  \n",
       "2   298,030  $44.99  \n",
       "3   138,241  $44.99  \n",
       "4    62,702  $39.00  "
      ]
     },
     "execution_count": 10,
     "metadata": {},
     "output_type": "execute_result"
    }
   ],
   "source": [
    "electronics['date'] = pd.DatetimeIndex(electronics['date']).year\n",
    "electronics = electronics.rename(columns = {'date':'Year'})\n",
    "electronics.head()"
   ]
  },
  {
   "cell_type": "markdown",
   "id": "3ba9d864",
   "metadata": {},
   "source": [
    "### Do we have any null/NaN values in either dataframe?"
   ]
  },
  {
   "cell_type": "code",
   "execution_count": 11,
   "id": "4465e214",
   "metadata": {},
   "outputs": [
    {
     "data": {
      "text/html": [
       "<div>\n",
       "<style scoped>\n",
       "    .dataframe tbody tr th:only-of-type {\n",
       "        vertical-align: middle;\n",
       "    }\n",
       "\n",
       "    .dataframe tbody tr th {\n",
       "        vertical-align: top;\n",
       "    }\n",
       "\n",
       "    .dataframe thead th {\n",
       "        text-align: right;\n",
       "    }\n",
       "</style>\n",
       "<table border=\"1\" class=\"dataframe\">\n",
       "  <thead>\n",
       "    <tr style=\"text-align: right;\">\n",
       "      <th></th>\n",
       "      <th>Year</th>\n",
       "      <th>number</th>\n",
       "      <th>name</th>\n",
       "      <th>rating</th>\n",
       "      <th>n_reviews</th>\n",
       "      <th>price</th>\n",
       "    </tr>\n",
       "  </thead>\n",
       "  <tbody>\n",
       "  </tbody>\n",
       "</table>\n",
       "</div>"
      ],
      "text/plain": [
       "Empty DataFrame\n",
       "Columns: [Year, number, name, rating, n_reviews, price]\n",
       "Index: []"
      ]
     },
     "execution_count": 11,
     "metadata": {},
     "output_type": "execute_result"
    }
   ],
   "source": [
    "electronics[electronics.isnull().any(axis=1)] #displaying if any rows have NaN values"
   ]
  },
  {
   "cell_type": "code",
   "execution_count": 12,
   "id": "45dcba1d",
   "metadata": {},
   "outputs": [
    {
     "data": {
      "text/html": [
       "<div>\n",
       "<style scoped>\n",
       "    .dataframe tbody tr th:only-of-type {\n",
       "        vertical-align: middle;\n",
       "    }\n",
       "\n",
       "    .dataframe tbody tr th {\n",
       "        vertical-align: top;\n",
       "    }\n",
       "\n",
       "    .dataframe thead th {\n",
       "        text-align: right;\n",
       "    }\n",
       "</style>\n",
       "<table border=\"1\" class=\"dataframe\">\n",
       "  <thead>\n",
       "    <tr style=\"text-align: right;\">\n",
       "      <th></th>\n",
       "      <th>Name</th>\n",
       "      <th>Author</th>\n",
       "      <th>User Rating</th>\n",
       "      <th>Reviews</th>\n",
       "      <th>Price</th>\n",
       "      <th>Year</th>\n",
       "      <th>Genre</th>\n",
       "    </tr>\n",
       "  </thead>\n",
       "  <tbody>\n",
       "  </tbody>\n",
       "</table>\n",
       "</div>"
      ],
      "text/plain": [
       "Empty DataFrame\n",
       "Columns: [Name, Author, User Rating, Reviews, Price, Year, Genre]\n",
       "Index: []"
      ]
     },
     "execution_count": 12,
     "metadata": {},
     "output_type": "execute_result"
    }
   ],
   "source": [
    "books[books.isnull().any(axis=1)] #displaying if any rows have NaN values"
   ]
  },
  {
   "cell_type": "markdown",
   "id": "0d2f23d5",
   "metadata": {},
   "source": [
    "### Since there's no null/NaN values in either data sets I will simply drop any item(s) which have 'rating' values that are not valid/with error"
   ]
  },
  {
   "cell_type": "code",
   "execution_count": 13,
   "id": "fb70909e",
   "metadata": {},
   "outputs": [
    {
     "name": "stdout",
     "output_type": "stream",
     "text": [
      "(18100, 6) object (550, 7) float64\n"
     ]
    }
   ],
   "source": [
    "print(electronics.shape,electronics['rating'].dtypes,\n",
    "books.shape, books['User Rating'].dtypes)"
   ]
  },
  {
   "cell_type": "code",
   "execution_count": 14,
   "id": "6b5f7f76",
   "metadata": {},
   "outputs": [
    {
     "data": {
      "text/plain": [
       "(17959, 6)"
      ]
     },
     "execution_count": 14,
     "metadata": {},
     "output_type": "execute_result"
    }
   ],
   "source": [
    "#because the rating column is an object it is assumed theres an error in row, \n",
    "# so I will drop if character count is over 3 \n",
    "electronics.drop((electronics[(electronics['rating'].map(lambda calc: len(calc)) > 3)]).index, inplace = True)\n",
    "electronics['rating'] = electronics['rating'].astype(float, errors = 'raise')\n",
    "electronics.shape"
   ]
  },
  {
   "cell_type": "code",
   "execution_count": 15,
   "id": "0262b338",
   "metadata": {},
   "outputs": [
    {
     "data": {
      "text/plain": [
       "(550, 7)"
      ]
     },
     "execution_count": 15,
     "metadata": {},
     "output_type": "execute_result"
    }
   ],
   "source": [
    "#user rating is a float as expected, so any non float, or under 2.0 wil be dropped (as 2.0 is the lowest rating we will accept)\n",
    "books = books[(books['User Rating'] > 2.0) | (books['User Rating'] != float) ]\n",
    "books.shape"
   ]
  },
  {
   "cell_type": "code",
   "execution_count": 16,
   "id": "f4e09c89",
   "metadata": {},
   "outputs": [
    {
     "name": "stdout",
     "output_type": "stream",
     "text": [
      "11953.281818181818 77220.90511721143\n",
      "(17959, 6) (550, 7)\n"
     ]
    }
   ],
   "source": [
    "bookReviews =books['Reviews'].mean()\n",
    "electronics['n_reviews'] = electronics['n_reviews'].str.replace(',','')\n",
    "#electronics['n_reviews'] = electronics['n_reviews'].astype(float, errors = 'raise')\n",
    "electronics['n_reviews']= pd.to_numeric(electronics['n_reviews'],errors = 'coerce')\n",
    "elecReviews = electronics['n_reviews'].mean()\n",
    "print(bookReviews, elecReviews)\n",
    "print(electronics.shape,books.shape)"
   ]
  },
  {
   "cell_type": "markdown",
   "id": "bfdc39a6",
   "metadata": {},
   "source": [
    "### Only want the values to be included that are above the mean value"
   ]
  },
  {
   "cell_type": "code",
   "execution_count": 17,
   "id": "0d0b80f4",
   "metadata": {},
   "outputs": [
    {
     "name": "stdout",
     "output_type": "stream",
     "text": [
      "(3957, 6) (183, 7)\n"
     ]
    }
   ],
   "source": [
    "books = books[(books['Reviews'] > 11953)]\n",
    "electronics = electronics[(electronics['n_reviews'] > 77220)]\n",
    "print(electronics.shape,books.shape)"
   ]
  },
  {
   "cell_type": "code",
   "execution_count": 18,
   "id": "abafbb88",
   "metadata": {},
   "outputs": [
    {
     "data": {
      "text/html": [
       "<div>\n",
       "<style scoped>\n",
       "    .dataframe tbody tr th:only-of-type {\n",
       "        vertical-align: middle;\n",
       "    }\n",
       "\n",
       "    .dataframe tbody tr th {\n",
       "        vertical-align: top;\n",
       "    }\n",
       "\n",
       "    .dataframe thead th {\n",
       "        text-align: right;\n",
       "    }\n",
       "</style>\n",
       "<table border=\"1\" class=\"dataframe\">\n",
       "  <thead>\n",
       "    <tr style=\"text-align: right;\">\n",
       "      <th></th>\n",
       "      <th>Name</th>\n",
       "      <th>Author</th>\n",
       "      <th>User Rating</th>\n",
       "      <th>Reviews</th>\n",
       "      <th>Price</th>\n",
       "      <th>Year</th>\n",
       "      <th>Genre</th>\n",
       "    </tr>\n",
       "  </thead>\n",
       "  <tbody>\n",
       "    <tr>\n",
       "      <th>534</th>\n",
       "      <td>Where the Crawdads Sing</td>\n",
       "      <td>Delia Owens</td>\n",
       "      <td>4.8</td>\n",
       "      <td>87841</td>\n",
       "      <td>15</td>\n",
       "      <td>2019</td>\n",
       "      <td>Fiction</td>\n",
       "    </tr>\n",
       "    <tr>\n",
       "      <th>382</th>\n",
       "      <td>The Girl on the Train</td>\n",
       "      <td>Paula Hawkins</td>\n",
       "      <td>4.1</td>\n",
       "      <td>79446</td>\n",
       "      <td>18</td>\n",
       "      <td>2015</td>\n",
       "      <td>Fiction</td>\n",
       "    </tr>\n",
       "    <tr>\n",
       "      <th>383</th>\n",
       "      <td>The Girl on the Train</td>\n",
       "      <td>Paula Hawkins</td>\n",
       "      <td>4.1</td>\n",
       "      <td>79446</td>\n",
       "      <td>7</td>\n",
       "      <td>2016</td>\n",
       "      <td>Fiction</td>\n",
       "    </tr>\n",
       "    <tr>\n",
       "      <th>32</th>\n",
       "      <td>Becoming</td>\n",
       "      <td>Michelle Obama</td>\n",
       "      <td>4.8</td>\n",
       "      <td>61133</td>\n",
       "      <td>11</td>\n",
       "      <td>2018</td>\n",
       "      <td>Non Fiction</td>\n",
       "    </tr>\n",
       "    <tr>\n",
       "      <th>33</th>\n",
       "      <td>Becoming</td>\n",
       "      <td>Michelle Obama</td>\n",
       "      <td>4.8</td>\n",
       "      <td>61133</td>\n",
       "      <td>11</td>\n",
       "      <td>2019</td>\n",
       "      <td>Non Fiction</td>\n",
       "    </tr>\n",
       "  </tbody>\n",
       "</table>\n",
       "</div>"
      ],
      "text/plain": [
       "                        Name          Author  User Rating  Reviews  Price  \\\n",
       "534  Where the Crawdads Sing     Delia Owens          4.8    87841     15   \n",
       "382    The Girl on the Train   Paula Hawkins          4.1    79446     18   \n",
       "383    The Girl on the Train   Paula Hawkins          4.1    79446      7   \n",
       "32                  Becoming  Michelle Obama          4.8    61133     11   \n",
       "33                  Becoming  Michelle Obama          4.8    61133     11   \n",
       "\n",
       "     Year        Genre  \n",
       "534  2019      Fiction  \n",
       "382  2015      Fiction  \n",
       "383  2016      Fiction  \n",
       "32   2018  Non Fiction  \n",
       "33   2019  Non Fiction  "
      ]
     },
     "execution_count": 18,
     "metadata": {},
     "output_type": "execute_result"
    }
   ],
   "source": [
    "books = books.sort_values('Reviews', ascending=False)\n",
    "books.head()"
   ]
  },
  {
   "cell_type": "code",
   "execution_count": 19,
   "id": "785b9709",
   "metadata": {},
   "outputs": [
    {
     "data": {
      "text/html": [
       "<div>\n",
       "<style scoped>\n",
       "    .dataframe tbody tr th:only-of-type {\n",
       "        vertical-align: middle;\n",
       "    }\n",
       "\n",
       "    .dataframe tbody tr th {\n",
       "        vertical-align: top;\n",
       "    }\n",
       "\n",
       "    .dataframe thead th {\n",
       "        text-align: right;\n",
       "    }\n",
       "</style>\n",
       "<table border=\"1\" class=\"dataframe\">\n",
       "  <thead>\n",
       "    <tr style=\"text-align: right;\">\n",
       "      <th></th>\n",
       "      <th>Year</th>\n",
       "      <th>number</th>\n",
       "      <th>name</th>\n",
       "      <th>rating</th>\n",
       "      <th>Reviews</th>\n",
       "      <th>price</th>\n",
       "    </tr>\n",
       "  </thead>\n",
       "  <tbody>\n",
       "    <tr>\n",
       "      <th>13376</th>\n",
       "      <td>2021</td>\n",
       "      <td>77</td>\n",
       "      <td>Echo Dot (3rd Gen) - Smart speaker with Alexa ...</td>\n",
       "      <td>4.7</td>\n",
       "      <td>1154421</td>\n",
       "      <td>$34.99</td>\n",
       "    </tr>\n",
       "    <tr>\n",
       "      <th>13476</th>\n",
       "      <td>2021</td>\n",
       "      <td>77</td>\n",
       "      <td>Echo Dot (3rd Gen) - Smart speaker with Alexa ...</td>\n",
       "      <td>4.7</td>\n",
       "      <td>1154421</td>\n",
       "      <td>$34.99</td>\n",
       "    </tr>\n",
       "    <tr>\n",
       "      <th>13403</th>\n",
       "      <td>2021</td>\n",
       "      <td>4</td>\n",
       "      <td>Echo Dot (3rd Gen) - Smart speaker with Alexa ...</td>\n",
       "      <td>4.7</td>\n",
       "      <td>1154421</td>\n",
       "      <td>$24.99</td>\n",
       "    </tr>\n",
       "    <tr>\n",
       "      <th>13305</th>\n",
       "      <td>2021</td>\n",
       "      <td>6</td>\n",
       "      <td>Echo Dot (3rd Gen) - Smart speaker with Alexa ...</td>\n",
       "      <td>4.7</td>\n",
       "      <td>1151460</td>\n",
       "      <td>$24.99</td>\n",
       "    </tr>\n",
       "    <tr>\n",
       "      <th>13205</th>\n",
       "      <td>2021</td>\n",
       "      <td>6</td>\n",
       "      <td>Echo Dot (3rd Gen) - Smart speaker with Alexa ...</td>\n",
       "      <td>4.7</td>\n",
       "      <td>1150403</td>\n",
       "      <td>$24.99</td>\n",
       "    </tr>\n",
       "  </tbody>\n",
       "</table>\n",
       "</div>"
      ],
      "text/plain": [
       "       Year  number                                               name  \\\n",
       "13376  2021      77  Echo Dot (3rd Gen) - Smart speaker with Alexa ...   \n",
       "13476  2021      77  Echo Dot (3rd Gen) - Smart speaker with Alexa ...   \n",
       "13403  2021       4  Echo Dot (3rd Gen) - Smart speaker with Alexa ...   \n",
       "13305  2021       6  Echo Dot (3rd Gen) - Smart speaker with Alexa ...   \n",
       "13205  2021       6  Echo Dot (3rd Gen) - Smart speaker with Alexa ...   \n",
       "\n",
       "       rating  Reviews   price  \n",
       "13376     4.7  1154421  $34.99  \n",
       "13476     4.7  1154421  $34.99  \n",
       "13403     4.7  1154421  $24.99  \n",
       "13305     4.7  1151460  $24.99  \n",
       "13205     4.7  1150403  $24.99  "
      ]
     },
     "execution_count": 19,
     "metadata": {},
     "output_type": "execute_result"
    }
   ],
   "source": [
    "electronics = electronics.sort_values('n_reviews', ascending=False)\n",
    "electronics = electronics.rename(columns = {'n_reviews':'Reviews'})\n",
    "electronics.head()"
   ]
  },
  {
   "cell_type": "code",
   "execution_count": 20,
   "id": "f3439428",
   "metadata": {},
   "outputs": [],
   "source": [
    "electronics = electronics.drop_duplicates(subset=['name', 'rating', 'Reviews'], keep='last')\n",
    "books = books.drop_duplicates(subset=['Name', 'Author', 'Reviews', 'Year'], keep='last')"
   ]
  },
  {
   "cell_type": "markdown",
   "id": "baff7f36",
   "metadata": {},
   "source": [
    "### Based on these results versus the books charts I used during milestone 1 I am not doing to drop duplicates if they are different year as the year can indicate the book was re released and shows progress over time <br>\n",
    "### Renaming column names to match amoung both tables"
   ]
  },
  {
   "cell_type": "code",
   "execution_count": 21,
   "id": "9752698d",
   "metadata": {},
   "outputs": [],
   "source": [
    "electronics = electronics.rename(columns = {'number':'Rank'})\n",
    "electronics = electronics.rename(columns = {'name':'Name'})\n",
    "electronics = electronics.rename(columns = {'price':'Price'})\n",
    "electronics = electronics.rename(columns = {'rating':'Rating'})\n",
    "books = books.rename(columns = {'User Rating':'Rating'})"
   ]
  },
  {
   "cell_type": "code",
   "execution_count": 22,
   "id": "3ea67738",
   "metadata": {},
   "outputs": [
    {
     "data": {
      "text/html": [
       "<div>\n",
       "<style scoped>\n",
       "    .dataframe tbody tr th:only-of-type {\n",
       "        vertical-align: middle;\n",
       "    }\n",
       "\n",
       "    .dataframe tbody tr th {\n",
       "        vertical-align: top;\n",
       "    }\n",
       "\n",
       "    .dataframe thead th {\n",
       "        text-align: right;\n",
       "    }\n",
       "</style>\n",
       "<table border=\"1\" class=\"dataframe\">\n",
       "  <thead>\n",
       "    <tr style=\"text-align: right;\">\n",
       "      <th></th>\n",
       "      <th>Name</th>\n",
       "      <th>Author</th>\n",
       "      <th>Rating</th>\n",
       "      <th>Reviews</th>\n",
       "      <th>Price</th>\n",
       "      <th>Year</th>\n",
       "      <th>Genre</th>\n",
       "    </tr>\n",
       "  </thead>\n",
       "  <tbody>\n",
       "    <tr>\n",
       "      <th>534</th>\n",
       "      <td>Where the Crawdads Sing</td>\n",
       "      <td>Delia Owens</td>\n",
       "      <td>4.8</td>\n",
       "      <td>87841</td>\n",
       "      <td>15</td>\n",
       "      <td>2019</td>\n",
       "      <td>Fiction</td>\n",
       "    </tr>\n",
       "    <tr>\n",
       "      <th>382</th>\n",
       "      <td>The Girl on the Train</td>\n",
       "      <td>Paula Hawkins</td>\n",
       "      <td>4.1</td>\n",
       "      <td>79446</td>\n",
       "      <td>18</td>\n",
       "      <td>2015</td>\n",
       "      <td>Fiction</td>\n",
       "    </tr>\n",
       "    <tr>\n",
       "      <th>383</th>\n",
       "      <td>The Girl on the Train</td>\n",
       "      <td>Paula Hawkins</td>\n",
       "      <td>4.1</td>\n",
       "      <td>79446</td>\n",
       "      <td>7</td>\n",
       "      <td>2016</td>\n",
       "      <td>Fiction</td>\n",
       "    </tr>\n",
       "    <tr>\n",
       "      <th>32</th>\n",
       "      <td>Becoming</td>\n",
       "      <td>Michelle Obama</td>\n",
       "      <td>4.8</td>\n",
       "      <td>61133</td>\n",
       "      <td>11</td>\n",
       "      <td>2018</td>\n",
       "      <td>Non Fiction</td>\n",
       "    </tr>\n",
       "    <tr>\n",
       "      <th>33</th>\n",
       "      <td>Becoming</td>\n",
       "      <td>Michelle Obama</td>\n",
       "      <td>4.8</td>\n",
       "      <td>61133</td>\n",
       "      <td>11</td>\n",
       "      <td>2019</td>\n",
       "      <td>Non Fiction</td>\n",
       "    </tr>\n",
       "  </tbody>\n",
       "</table>\n",
       "</div>"
      ],
      "text/plain": [
       "                        Name          Author  Rating  Reviews  Price  Year  \\\n",
       "534  Where the Crawdads Sing     Delia Owens     4.8    87841     15  2019   \n",
       "382    The Girl on the Train   Paula Hawkins     4.1    79446     18  2015   \n",
       "383    The Girl on the Train   Paula Hawkins     4.1    79446      7  2016   \n",
       "32                  Becoming  Michelle Obama     4.8    61133     11  2018   \n",
       "33                  Becoming  Michelle Obama     4.8    61133     11  2019   \n",
       "\n",
       "           Genre  \n",
       "534      Fiction  \n",
       "382      Fiction  \n",
       "383      Fiction  \n",
       "32   Non Fiction  \n",
       "33   Non Fiction  "
      ]
     },
     "execution_count": 22,
     "metadata": {},
     "output_type": "execute_result"
    }
   ],
   "source": [
    "books.head()"
   ]
  },
  {
   "cell_type": "code",
   "execution_count": 23,
   "id": "dc701f3c",
   "metadata": {},
   "outputs": [
    {
     "data": {
      "text/html": [
       "<div>\n",
       "<style scoped>\n",
       "    .dataframe tbody tr th:only-of-type {\n",
       "        vertical-align: middle;\n",
       "    }\n",
       "\n",
       "    .dataframe tbody tr th {\n",
       "        vertical-align: top;\n",
       "    }\n",
       "\n",
       "    .dataframe thead th {\n",
       "        text-align: right;\n",
       "    }\n",
       "</style>\n",
       "<table border=\"1\" class=\"dataframe\">\n",
       "  <thead>\n",
       "    <tr style=\"text-align: right;\">\n",
       "      <th></th>\n",
       "      <th>Year</th>\n",
       "      <th>Rank</th>\n",
       "      <th>Name</th>\n",
       "      <th>Rating</th>\n",
       "      <th>Reviews</th>\n",
       "      <th>Price</th>\n",
       "    </tr>\n",
       "  </thead>\n",
       "  <tbody>\n",
       "    <tr>\n",
       "      <th>13476</th>\n",
       "      <td>2021</td>\n",
       "      <td>77</td>\n",
       "      <td>Echo Dot (3rd Gen) - Smart speaker with Alexa ...</td>\n",
       "      <td>4.7</td>\n",
       "      <td>1154421</td>\n",
       "      <td>$34.99</td>\n",
       "    </tr>\n",
       "    <tr>\n",
       "      <th>13403</th>\n",
       "      <td>2021</td>\n",
       "      <td>4</td>\n",
       "      <td>Echo Dot (3rd Gen) - Smart speaker with Alexa ...</td>\n",
       "      <td>4.7</td>\n",
       "      <td>1154421</td>\n",
       "      <td>$24.99</td>\n",
       "    </tr>\n",
       "    <tr>\n",
       "      <th>13305</th>\n",
       "      <td>2021</td>\n",
       "      <td>6</td>\n",
       "      <td>Echo Dot (3rd Gen) - Smart speaker with Alexa ...</td>\n",
       "      <td>4.7</td>\n",
       "      <td>1151460</td>\n",
       "      <td>$24.99</td>\n",
       "    </tr>\n",
       "    <tr>\n",
       "      <th>13205</th>\n",
       "      <td>2021</td>\n",
       "      <td>6</td>\n",
       "      <td>Echo Dot (3rd Gen) - Smart speaker with Alexa ...</td>\n",
       "      <td>4.7</td>\n",
       "      <td>1150403</td>\n",
       "      <td>$24.99</td>\n",
       "    </tr>\n",
       "    <tr>\n",
       "      <th>13274</th>\n",
       "      <td>2021</td>\n",
       "      <td>75</td>\n",
       "      <td>Echo Dot (3rd Gen) - Smart speaker with Alexa ...</td>\n",
       "      <td>4.7</td>\n",
       "      <td>1150403</td>\n",
       "      <td>$24.99</td>\n",
       "    </tr>\n",
       "  </tbody>\n",
       "</table>\n",
       "</div>"
      ],
      "text/plain": [
       "       Year  Rank                                               Name  Rating  \\\n",
       "13476  2021    77  Echo Dot (3rd Gen) - Smart speaker with Alexa ...     4.7   \n",
       "13403  2021     4  Echo Dot (3rd Gen) - Smart speaker with Alexa ...     4.7   \n",
       "13305  2021     6  Echo Dot (3rd Gen) - Smart speaker with Alexa ...     4.7   \n",
       "13205  2021     6  Echo Dot (3rd Gen) - Smart speaker with Alexa ...     4.7   \n",
       "13274  2021    75  Echo Dot (3rd Gen) - Smart speaker with Alexa ...     4.7   \n",
       "\n",
       "       Reviews   Price  \n",
       "13476  1154421  $34.99  \n",
       "13403  1154421  $24.99  \n",
       "13305  1151460  $24.99  \n",
       "13205  1150403  $24.99  \n",
       "13274  1150403  $24.99  "
      ]
     },
     "execution_count": 23,
     "metadata": {},
     "output_type": "execute_result"
    }
   ],
   "source": [
    "electronics.head()"
   ]
  },
  {
   "cell_type": "markdown",
   "id": "1e81d474",
   "metadata": {},
   "source": [
    "# Course Project -- Milestone 3"
   ]
  },
  {
   "cell_type": "code",
   "execution_count": 189,
   "id": "2f0b104f",
   "metadata": {},
   "outputs": [],
   "source": [
    "import numpy as np\n",
    "from sklearn import metrics\n",
    "import seaborn as sn\n",
    "import matplotlib.pyplot as plt\n",
    "from sklearn.ensemble import RandomForestClassifier"
   ]
  },
  {
   "cell_type": "markdown",
   "id": "f50d83f4",
   "metadata": {},
   "source": [
    "### The following calculation is to determine what type of values I will be working with. It is crucial to know how many of each rating (on a scale 0.0-5.0) is in the data. This information also provides how many of each rating there is to determine trends."
   ]
  },
  {
   "cell_type": "code",
   "execution_count": 190,
   "id": "8a84a198",
   "metadata": {},
   "outputs": [
    {
     "data": {
      "text/html": [
       "<div>\n",
       "<style scoped>\n",
       "    .dataframe tbody tr th:only-of-type {\n",
       "        vertical-align: middle;\n",
       "    }\n",
       "\n",
       "    .dataframe tbody tr th {\n",
       "        vertical-align: top;\n",
       "    }\n",
       "\n",
       "    .dataframe thead th {\n",
       "        text-align: right;\n",
       "    }\n",
       "</style>\n",
       "<table border=\"1\" class=\"dataframe\">\n",
       "  <thead>\n",
       "    <tr style=\"text-align: right;\">\n",
       "      <th></th>\n",
       "      <th>Count</th>\n",
       "      <th>%</th>\n",
       "    </tr>\n",
       "    <tr>\n",
       "      <th>Rating</th>\n",
       "      <th></th>\n",
       "      <th></th>\n",
       "    </tr>\n",
       "  </thead>\n",
       "  <tbody>\n",
       "    <tr>\n",
       "      <th>4.7</th>\n",
       "      <td>1545</td>\n",
       "      <td>41.18</td>\n",
       "    </tr>\n",
       "    <tr>\n",
       "      <th>4.6</th>\n",
       "      <td>1191</td>\n",
       "      <td>31.74</td>\n",
       "    </tr>\n",
       "    <tr>\n",
       "      <th>4.8</th>\n",
       "      <td>382</td>\n",
       "      <td>10.18</td>\n",
       "    </tr>\n",
       "    <tr>\n",
       "      <th>4.4</th>\n",
       "      <td>296</td>\n",
       "      <td>7.89</td>\n",
       "    </tr>\n",
       "    <tr>\n",
       "      <th>4.5</th>\n",
       "      <td>259</td>\n",
       "      <td>6.90</td>\n",
       "    </tr>\n",
       "    <tr>\n",
       "      <th>4.0</th>\n",
       "      <td>79</td>\n",
       "      <td>2.11</td>\n",
       "    </tr>\n",
       "  </tbody>\n",
       "</table>\n",
       "</div>"
      ],
      "text/plain": [
       "        Count      %\n",
       "Rating              \n",
       "4.7      1545  41.18\n",
       "4.6      1191  31.74\n",
       "4.8       382  10.18\n",
       "4.4       296   7.89\n",
       "4.5       259   6.90\n",
       "4.0        79   2.11"
      ]
     },
     "execution_count": 190,
     "metadata": {},
     "output_type": "execute_result"
    }
   ],
   "source": [
    "obs=electronics['Rating'].value_counts()\n",
    "per=electronics['Rating'].value_counts(normalize = True) *100\n",
    "dfc = pd.concat([obs.rename(\"Count\"), per.rename(\"%\")], axis=1)\n",
    "dfc['%'] = dfc['%'].round(2)\n",
    "dfc.index.name = 'Rating'\n",
    "dfc"
   ]
  },
  {
   "cell_type": "code",
   "execution_count": 191,
   "id": "4367bfd8",
   "metadata": {},
   "outputs": [
    {
     "data": {
      "text/html": [
       "<div>\n",
       "<style scoped>\n",
       "    .dataframe tbody tr th:only-of-type {\n",
       "        vertical-align: middle;\n",
       "    }\n",
       "\n",
       "    .dataframe tbody tr th {\n",
       "        vertical-align: top;\n",
       "    }\n",
       "\n",
       "    .dataframe thead th {\n",
       "        text-align: right;\n",
       "    }\n",
       "</style>\n",
       "<table border=\"1\" class=\"dataframe\">\n",
       "  <thead>\n",
       "    <tr style=\"text-align: right;\">\n",
       "      <th></th>\n",
       "      <th>Count</th>\n",
       "      <th>%</th>\n",
       "    </tr>\n",
       "    <tr>\n",
       "      <th>Rating</th>\n",
       "      <th></th>\n",
       "      <th></th>\n",
       "    </tr>\n",
       "  </thead>\n",
       "  <tbody>\n",
       "    <tr>\n",
       "      <th>4.8</th>\n",
       "      <td>51</td>\n",
       "      <td>28.33</td>\n",
       "    </tr>\n",
       "    <tr>\n",
       "      <th>4.7</th>\n",
       "      <td>44</td>\n",
       "      <td>24.44</td>\n",
       "    </tr>\n",
       "    <tr>\n",
       "      <th>4.9</th>\n",
       "      <td>25</td>\n",
       "      <td>13.89</td>\n",
       "    </tr>\n",
       "    <tr>\n",
       "      <th>4.6</th>\n",
       "      <td>19</td>\n",
       "      <td>10.56</td>\n",
       "    </tr>\n",
       "    <tr>\n",
       "      <th>4.5</th>\n",
       "      <td>14</td>\n",
       "      <td>7.78</td>\n",
       "    </tr>\n",
       "    <tr>\n",
       "      <th>4.3</th>\n",
       "      <td>8</td>\n",
       "      <td>4.44</td>\n",
       "    </tr>\n",
       "    <tr>\n",
       "      <th>4.4</th>\n",
       "      <td>6</td>\n",
       "      <td>3.33</td>\n",
       "    </tr>\n",
       "    <tr>\n",
       "      <th>4.0</th>\n",
       "      <td>4</td>\n",
       "      <td>2.22</td>\n",
       "    </tr>\n",
       "    <tr>\n",
       "      <th>4.1</th>\n",
       "      <td>3</td>\n",
       "      <td>1.67</td>\n",
       "    </tr>\n",
       "    <tr>\n",
       "      <th>3.9</th>\n",
       "      <td>2</td>\n",
       "      <td>1.11</td>\n",
       "    </tr>\n",
       "    <tr>\n",
       "      <th>3.8</th>\n",
       "      <td>2</td>\n",
       "      <td>1.11</td>\n",
       "    </tr>\n",
       "    <tr>\n",
       "      <th>4.2</th>\n",
       "      <td>1</td>\n",
       "      <td>0.56</td>\n",
       "    </tr>\n",
       "    <tr>\n",
       "      <th>3.6</th>\n",
       "      <td>1</td>\n",
       "      <td>0.56</td>\n",
       "    </tr>\n",
       "  </tbody>\n",
       "</table>\n",
       "</div>"
      ],
      "text/plain": [
       "        Count      %\n",
       "Rating              \n",
       "4.8        51  28.33\n",
       "4.7        44  24.44\n",
       "4.9        25  13.89\n",
       "4.6        19  10.56\n",
       "4.5        14   7.78\n",
       "4.3         8   4.44\n",
       "4.4         6   3.33\n",
       "4.0         4   2.22\n",
       "4.1         3   1.67\n",
       "3.9         2   1.11\n",
       "3.8         2   1.11\n",
       "4.2         1   0.56\n",
       "3.6         1   0.56"
      ]
     },
     "execution_count": 191,
     "metadata": {},
     "output_type": "execute_result"
    }
   ],
   "source": [
    "obs=books['Rating'].value_counts()\n",
    "per=books['Rating'].value_counts(normalize = True) *100\n",
    "dfc = pd.concat([obs.rename(\"Count\"), per.rename(\"%\")], axis=1)\n",
    "dfc['%'] = dfc['%'].round(2)\n",
    "dfc.index.name = 'Rating'\n",
    "dfc"
   ]
  },
  {
   "cell_type": "code",
   "execution_count": 192,
   "id": "bda60e23",
   "metadata": {},
   "outputs": [],
   "source": [
    "import matplotlib.pyplot as plt\n",
    "from sklearn.datasets import make_classification\n",
    "from sklearn.metrics import confusion_matrix, ConfusionMatrixDisplay\n",
    "from sklearn.model_selection import train_test_split\n",
    "from sklearn.svm import SVC\n",
    "tree = electronics.select_dtypes(exclude=['object'])\n",
    "tree = tree.fillna(tree.mean())\n",
    "X = tree.drop('Rank',axis=1)\n",
    "y = tree['Rank']\n",
    "\n",
    "X_train,X_test,y_train,y_test = train_test_split(X,y,test_size=0.5)"
   ]
  },
  {
   "cell_type": "code",
   "execution_count": 193,
   "id": "8059fe68",
   "metadata": {},
   "outputs": [
    {
     "name": "stdout",
     "output_type": "stream",
     "text": [
      "Accuracy: 0.0767590618336887\n"
     ]
    },
    {
     "data": {
      "image/png": "[encoded data removed]",
      "text/plain": [
       "<Figure size 432x288 with 2 Axes>"
      ]
     },
     "metadata": {
      "needs_background": "light"
     },
     "output_type": "display_data"
    }
   ],
   "source": [
    "X, y = make_classification(random_state=0)\n",
    "clf = SVC(random_state=0)\n",
    "clf.fit(X_train, y_train)\n",
    "SVC(random_state=0)\n",
    "predictions = clf.predict(X_test)\n",
    "disp = ConfusionMatrixDisplay(confusion_matrix(y_test, predictions))\n",
    "disp.plot()\n",
    "print('Accuracy:',metrics.accuracy_score(y_test, predictions))\n",
    "plt.show()"
   ]
  },
  {
   "cell_type": "code",
   "execution_count": 194,
   "id": "bb75e98c",
   "metadata": {},
   "outputs": [
    {
     "data": {
      "image/png": "[encoded data removed]",
      "text/plain": [
       "<Figure size 432x288 with 2 Axes>"
      ]
     },
     "metadata": {
      "needs_background": "light"
     },
     "output_type": "display_data"
    }
   ],
   "source": [
    "classer = RandomForestClassifier(n_estimators=50)\n",
    "classer.fit(X_train,y_train)\n",
    "y_pred= classer.predict(X_test)\n",
    "\n",
    "confusion_matrix = pd.crosstab(y_test, y_pred, rownames=['Actual'], colnames=['Predicted'])\n",
    "sn.heatmap(confusion_matrix, annot=True)\n",
    "\n",
    "#print('Accuracy:',metrics.accuracy_score(y_test, y_pred))\n",
    "plt.show()"
   ]
  },
  {
   "cell_type": "markdown",
   "id": "896457ba",
   "metadata": {},
   "source": [
    "### The graphs above using Rank values as test/train proved too inconsistent and were not done on Books dataset for such reason. <br>\n",
    "### Instead the Rating values will be continued to use using a confusion matrix."
   ]
  },
  {
   "cell_type": "markdown",
   "id": "07adec71",
   "metadata": {},
   "source": [
    "### USING BOOKS"
   ]
  },
  {
   "cell_type": "code",
   "execution_count": 197,
   "id": "2b95a5ea",
   "metadata": {},
   "outputs": [
    {
     "data": {
      "image/png": "[encoded data removed]",
      "text/plain": [
       "<Figure size 432x288 with 2 Axes>"
      ]
     },
     "metadata": {
      "needs_background": "light"
     },
     "output_type": "display_data"
    }
   ],
   "source": [
    "tree = books.select_dtypes(exclude=['object'])\n",
    "tree = tree.fillna(tree.mean())\n",
    "X = tree.drop('Rating',axis=1)\n",
    "y = tree['Rating']\n",
    "\n",
    "X_train,X_test,y_train,y_test = train_test_split(X,y,test_size=0.5)\n",
    "\n",
    "y_pred= clf.predict(X_test)\n",
    "\n",
    "confusion_matrix = pd.crosstab(y_test, y_pred, rownames=['Actual'], colnames=['Predicted'])\n",
    "sn.heatmap(confusion_matrix, annot=True)\n",
    "\n",
    "#print('Accuracy:',metrics.accuracy_score(y_test, y_pred))\n",
    "plt.show()"
   ]
  },
  {
   "cell_type": "markdown",
   "id": "ca327cae",
   "metadata": {},
   "source": [
    "### USING ELECTRONICS"
   ]
  },
  {
   "cell_type": "code",
   "execution_count": 195,
   "id": "7fb5eaab",
   "metadata": {},
   "outputs": [],
   "source": [
    "tree = electronics.select_dtypes(exclude=['object'])\n",
    "tree = tree.fillna(tree.mean())\n",
    "X = tree.drop('Rating',axis=1)\n",
    "y = tree['Rating']\n",
    "\n",
    "X_train,X_test,y_train,y_test = train_test_split(X,y,test_size=0.5)\n"
   ]
  },
  {
   "cell_type": "code",
   "execution_count": 196,
   "id": "6d60d63e",
   "metadata": {},
   "outputs": [
    {
     "data": {
      "image/png": "[encoded data removed]",
      "text/plain": [
       "<Figure size 432x288 with 2 Axes>"
      ]
     },
     "metadata": {
      "needs_background": "light"
     },
     "output_type": "display_data"
    }
   ],
   "source": [
    "y_pred= clf.predict(X_test)\n",
    "\n",
    "confusion_matrix = pd.crosstab(y_test, y_pred, rownames=['Actual'], colnames=['Predicted'])\n",
    "sn.heatmap(confusion_matrix, annot=True)\n",
    "\n",
    "#print('Accuracy:',metrics.accuracy_score(y_test, y_pred))\n",
    "plt.show()"
   ]
  },
  {
   "cell_type": "markdown",
   "id": "6ce1b733",
   "metadata": {},
   "source": [
    "### Conclusion: With the above train/test methods it is very interesting to see how the two dataset results differ. Using the same input variables there were very different results. We see the books dataset seems to be more balanced in terms of what the rating are. The electronics dataset contains more skewed Rating results which made the confusion matrix skewed as well. Althouh there were more skewed results in the top eletronics dataset we can see a trend that both datasets majority falls under the predicted 3 value.<br>\n",
    "### What these results tell us that both datasets have similar averages. On average both the top electronics and books bring in 4.6/4.7 ratings. Using such information we can predict that people are more likely to purchase a product whether its a book or electronic if the rating is 4.6/4.7. This data can be used to advertise products that recieve such star rating.<br>\n",
    "#### Keep in mind: Although we can use the rating to advertise appropriate products we have to keep in mind the amount of rating each product is recieving. For example a 4.7 with 3 ratings might not be as good as 4.6 product with 10K + ratings."
   ]
  },
  {
   "cell_type": "markdown",
   "id": "72bf7489",
   "metadata": {},
   "source": [
    "### USING BOOKS"
   ]
  },
  {
   "cell_type": "code",
   "execution_count": 213,
   "id": "11be4a69",
   "metadata": {},
   "outputs": [],
   "source": [
    "books = books.select_dtypes(exclude=['object'])\n",
    "X = books.drop('Rating',axis=1)\n",
    "y = books['Rating']\n",
    "X_train,X_test,y_train,y_test = train_test_split(X,y,test_size=0.5)"
   ]
  },
  {
   "cell_type": "code",
   "execution_count": 219,
   "id": "f6f67d78",
   "metadata": {},
   "outputs": [
    {
     "name": "stdout",
     "output_type": "stream",
     "text": [
      "[7 8 4 7 4 8 8 3 6 1 7 5 5 8 1 9 7 8 8 9 8 9 5 6 2 3 7 7 5 9 8 6 8 9 6 7 3\n",
      " 7 8 7 9 6 7 7 7 0 7 8 8 3 8 8 5 3 8 7 7 7 8 9 9 6 7 7 3 8 8 6 7 8 9 7 7 5\n",
      " 8 5 5 8 5 8 9 6 2 5 8 3 6 8 7 9]\n",
      "continuous\n",
      "binary\n",
      "multiclass\n"
     ]
    }
   ],
   "source": [
    "from sklearn import preprocessing\n",
    "from sklearn import utils\n",
    "\n",
    "lab_enc = preprocessing.LabelEncoder()\n",
    "training_scores_encoded = lab_enc.fit_transform(y_train)\n",
    "print(training_scores_encoded)\n",
    "print(utils.multiclass.type_of_target(y_train))\n",
    "print(utils.multiclass.type_of_target(y_train.astype('int')))\n",
    "print(utils.multiclass.type_of_target(training_scores_encoded))"
   ]
  },
  {
   "cell_type": "code",
   "execution_count": 232,
   "id": "00fc72a4",
   "metadata": {},
   "outputs": [
    {
     "name": "stdout",
     "output_type": "stream",
     "text": [
      "LogisticRegression\n"
     ]
    },
    {
     "name": "stderr",
     "output_type": "stream",
     "text": [
      "C:\\Users\\Eearl\\anaconda3\\lib\\site-packages\\sklearn\\linear_model\\_logistic.py:763: ConvergenceWarning: lbfgs failed to converge (status=1):\n",
      "STOP: TOTAL NO. of ITERATIONS REACHED LIMIT.\n",
      "\n",
      "Increase the number of iterations (max_iter) or scale the data as shown in:\n",
      "    https://scikit-learn.org/stable/modules/preprocessing.html\n",
      "Please also refer to the documentation for alternative solver options:\n",
      "    https://scikit-learn.org/stable/modules/linear_model.html#logistic-regression\n",
      "  n_iter_i = _check_optimize_result(\n"
     ]
    }
   ],
   "source": [
    "linear = LogisticRegression()\n",
    "linear.fit(X_train, training_scores_encoded)\n",
    "print(\"LogisticRegression\")"
   ]
  },
  {
   "cell_type": "code",
   "execution_count": 257,
   "id": "6561c648",
   "metadata": {},
   "outputs": [],
   "source": [
    "predict = linear.predict(X_train)"
   ]
  },
  {
   "cell_type": "code",
   "execution_count": 256,
   "id": "c670db66",
   "metadata": {},
   "outputs": [
    {
     "name": "stdout",
     "output_type": "stream",
     "text": [
      "R2 value is: -38.51142355008785 \n",
      "RMSE value is:  1.6659998666133065\n"
     ]
    }
   ],
   "source": [
    "from sklearn.metrics import r2_score, mean_squared_error\n",
    "from sklearn.preprocessing import MinMaxScaler\n",
    "minMax = MinMaxScaler()\n",
    "trainMinMax = minMax.fit_transform(X_train)\n",
    "noFitMinMax = minMax.transform(X_test)\n",
    "r2 = r2_score(y_test, (linear.predict(noFitMinMax)))\n",
    "rmse = np.sqrt(mean_squared_error(y_test,(linear.predict(noFitMinMax))))\n",
    "print(\"R2 value is:\" , r2,\"\\nRMSE value is: \", rmse)"
   ]
  },
  {
   "cell_type": "markdown",
   "id": "6b999286",
   "metadata": {},
   "source": [
    "### USING ELECTRONICS"
   ]
  },
  {
   "cell_type": "code",
   "execution_count": 267,
   "id": "efc771f4",
   "metadata": {},
   "outputs": [],
   "source": [
    "electronics = electronics.select_dtypes(exclude=['object'])\n",
    "X = electronics.drop('Rating',axis=1)\n",
    "y = electronics['Rating']\n",
    "X_train,X_test,y_train,y_test = train_test_split(X,y,test_size=0.5)"
   ]
  },
  {
   "cell_type": "code",
   "execution_count": 268,
   "id": "4683a92c",
   "metadata": {},
   "outputs": [
    {
     "name": "stdout",
     "output_type": "stream",
     "text": [
      "[4 3 3 ... 4 3 4]\n",
      "continuous\n",
      "binary\n",
      "multiclass\n"
     ]
    }
   ],
   "source": [
    "lab_enc = preprocessing.LabelEncoder()\n",
    "training_scores_encoded = lab_enc.fit_transform(y_train)\n",
    "print(training_scores_encoded)\n",
    "print(utils.multiclass.type_of_target(y_train))\n",
    "print(utils.multiclass.type_of_target(y_train.astype('int')))\n",
    "print(utils.multiclass.type_of_target(training_scores_encoded))"
   ]
  },
  {
   "cell_type": "code",
   "execution_count": 269,
   "id": "b3ccc851",
   "metadata": {},
   "outputs": [
    {
     "name": "stdout",
     "output_type": "stream",
     "text": [
      "LogisticRegression\n"
     ]
    },
    {
     "name": "stderr",
     "output_type": "stream",
     "text": [
      "C:\\Users\\Eearl\\anaconda3\\lib\\site-packages\\sklearn\\linear_model\\_logistic.py:763: ConvergenceWarning: lbfgs failed to converge (status=1):\n",
      "STOP: TOTAL NO. of ITERATIONS REACHED LIMIT.\n",
      "\n",
      "Increase the number of iterations (max_iter) or scale the data as shown in:\n",
      "    https://scikit-learn.org/stable/modules/preprocessing.html\n",
      "Please also refer to the documentation for alternative solver options:\n",
      "    https://scikit-learn.org/stable/modules/linear_model.html#logistic-regression\n",
      "  n_iter_i = _check_optimize_result(\n"
     ]
    }
   ],
   "source": [
    "linear = LogisticRegression()\n",
    "linear.fit(X_train, training_scores_encoded)\n",
    "print(\"LogisticRegression\")"
   ]
  },
  {
   "cell_type": "code",
   "execution_count": 271,
   "id": "ad410760",
   "metadata": {},
   "outputs": [
    {
     "name": "stdout",
     "output_type": "stream",
     "text": [
      "R2 value is: -134.86383131176663 \n",
      "RMSE value is:  1.594677313944008\n"
     ]
    }
   ],
   "source": [
    "print(\"R2 value is:\" , r2,\"\\nRMSE value is: \", rmse)"
   ]
  },
  {
   "cell_type": "markdown",
   "id": "9940e4e8",
   "metadata": {},
   "source": [
    "### Conclusion: Because of the previous results I expected the books dataset to be more reliable as the values were not as skewed as the electronics, but basing off of our R2 I have results that make me question both sets as we are expecting a positive 0-1 R2 value but the results are extremely negative. This tells me the MinMax scaler method is not an accurate way to perform calculations on my datasets.<br>\n",
    "### Considering the previous analysis of what my data means, I will focus on review values and ratings to create a model that will correctly show which products are worth advertising.<br>\n",
    "#### Data cleaning: I am weary about merging my electronics and books datasets as errors mighrt occur but it is something I will consider moving forward."
   ]
  },
  {
   "cell_type": "markdown",
   "id": "e672e134",
   "metadata": {},
   "source": [
    "### <hr>"
   ]
  },
  {
   "cell_type": "code",
   "execution_count": 25,
   "id": "f30c9d95",
   "metadata": {},
   "outputs": [
    {
     "name": "stdout",
     "output_type": "stream",
     "text": [
      "(19, 7) (1545, 6)\n"
     ]
    }
   ],
   "source": [
    "books = books[(books['Rating'] == 4.6)]\n",
    "electronics = electronics[(electronics['Rating'] == 4.7)]\n",
    "print(books.shape, electronics.shape)"
   ]
  },
  {
   "cell_type": "code",
   "execution_count": 35,
   "id": "35ac3965",
   "metadata": {},
   "outputs": [
    {
     "data": {
      "text/html": [
       "<div>\n",
       "<style scoped>\n",
       "    .dataframe tbody tr th:only-of-type {\n",
       "        vertical-align: middle;\n",
       "    }\n",
       "\n",
       "    .dataframe tbody tr th {\n",
       "        vertical-align: top;\n",
       "    }\n",
       "\n",
       "    .dataframe thead th {\n",
       "        text-align: right;\n",
       "    }\n",
       "</style>\n",
       "<table border=\"1\" class=\"dataframe\">\n",
       "  <thead>\n",
       "    <tr style=\"text-align: right;\">\n",
       "      <th></th>\n",
       "      <th>Name</th>\n",
       "      <th>Author</th>\n",
       "      <th>Rating</th>\n",
       "      <th>Reviews</th>\n",
       "      <th>Price</th>\n",
       "      <th>Year</th>\n",
       "      <th>Genre</th>\n",
       "    </tr>\n",
       "  </thead>\n",
       "  <tbody>\n",
       "    <tr>\n",
       "      <th>21</th>\n",
       "      <td>All the Light We Cannot See</td>\n",
       "      <td>Anthony Doerr</td>\n",
       "      <td>4.6</td>\n",
       "      <td>36348</td>\n",
       "      <td>14</td>\n",
       "      <td>2015</td>\n",
       "      <td>Fiction</td>\n",
       "    </tr>\n",
       "    <tr>\n",
       "      <th>20</th>\n",
       "      <td>All the Light We Cannot See</td>\n",
       "      <td>Anthony Doerr</td>\n",
       "      <td>4.6</td>\n",
       "      <td>36348</td>\n",
       "      <td>14</td>\n",
       "      <td>2014</td>\n",
       "      <td>Fiction</td>\n",
       "    </tr>\n",
       "    <tr>\n",
       "      <th>75</th>\n",
       "      <td>Divergent</td>\n",
       "      <td>Veronica Roth</td>\n",
       "      <td>4.6</td>\n",
       "      <td>27098</td>\n",
       "      <td>15</td>\n",
       "      <td>2013</td>\n",
       "      <td>Fiction</td>\n",
       "    </tr>\n",
       "    <tr>\n",
       "      <th>76</th>\n",
       "      <td>Divergent</td>\n",
       "      <td>Veronica Roth</td>\n",
       "      <td>4.6</td>\n",
       "      <td>27098</td>\n",
       "      <td>15</td>\n",
       "      <td>2014</td>\n",
       "      <td>Fiction</td>\n",
       "    </tr>\n",
       "    <tr>\n",
       "      <th>465</th>\n",
       "      <td>The Subtle Art of Not Giving a F*ck: A Counter...</td>\n",
       "      <td>Mark Manson</td>\n",
       "      <td>4.6</td>\n",
       "      <td>26490</td>\n",
       "      <td>15</td>\n",
       "      <td>2018</td>\n",
       "      <td>Non Fiction</td>\n",
       "    </tr>\n",
       "  </tbody>\n",
       "</table>\n",
       "</div>"
      ],
      "text/plain": [
       "                                                  Name         Author  Rating  \\\n",
       "21                         All the Light We Cannot See  Anthony Doerr     4.6   \n",
       "20                         All the Light We Cannot See  Anthony Doerr     4.6   \n",
       "75                                           Divergent  Veronica Roth     4.6   \n",
       "76                                           Divergent  Veronica Roth     4.6   \n",
       "465  The Subtle Art of Not Giving a F*ck: A Counter...    Mark Manson     4.6   \n",
       "\n",
       "     Reviews  Price  Year        Genre  \n",
       "21     36348     14  2015      Fiction  \n",
       "20     36348     14  2014      Fiction  \n",
       "75     27098     15  2013      Fiction  \n",
       "76     27098     15  2014      Fiction  \n",
       "465    26490     15  2018  Non Fiction  "
      ]
     },
     "execution_count": 35,
     "metadata": {},
     "output_type": "execute_result"
    }
   ],
   "source": [
    "books = books.sort_values(by='Reviews', ascending=False)\n",
    "books.head()"
   ]
  },
  {
   "cell_type": "code",
   "execution_count": 34,
   "id": "4f820e0b",
   "metadata": {},
   "outputs": [
    {
     "data": {
      "text/html": [
       "<div>\n",
       "<style scoped>\n",
       "    .dataframe tbody tr th:only-of-type {\n",
       "        vertical-align: middle;\n",
       "    }\n",
       "\n",
       "    .dataframe tbody tr th {\n",
       "        vertical-align: top;\n",
       "    }\n",
       "\n",
       "    .dataframe thead th {\n",
       "        text-align: right;\n",
       "    }\n",
       "</style>\n",
       "<table border=\"1\" class=\"dataframe\">\n",
       "  <thead>\n",
       "    <tr style=\"text-align: right;\">\n",
       "      <th></th>\n",
       "      <th>Year</th>\n",
       "      <th>Rank</th>\n",
       "      <th>Name</th>\n",
       "      <th>Rating</th>\n",
       "      <th>Reviews</th>\n",
       "      <th>Price</th>\n",
       "    </tr>\n",
       "  </thead>\n",
       "  <tbody>\n",
       "    <tr>\n",
       "      <th>13476</th>\n",
       "      <td>2021</td>\n",
       "      <td>77</td>\n",
       "      <td>Echo Dot (3rd Gen) - Smart speaker with Alexa ...</td>\n",
       "      <td>4.7</td>\n",
       "      <td>1154421</td>\n",
       "      <td>$34.99</td>\n",
       "    </tr>\n",
       "    <tr>\n",
       "      <th>13403</th>\n",
       "      <td>2021</td>\n",
       "      <td>4</td>\n",
       "      <td>Echo Dot (3rd Gen) - Smart speaker with Alexa ...</td>\n",
       "      <td>4.7</td>\n",
       "      <td>1154421</td>\n",
       "      <td>$24.99</td>\n",
       "    </tr>\n",
       "    <tr>\n",
       "      <th>13305</th>\n",
       "      <td>2021</td>\n",
       "      <td>6</td>\n",
       "      <td>Echo Dot (3rd Gen) - Smart speaker with Alexa ...</td>\n",
       "      <td>4.7</td>\n",
       "      <td>1151460</td>\n",
       "      <td>$24.99</td>\n",
       "    </tr>\n",
       "    <tr>\n",
       "      <th>13274</th>\n",
       "      <td>2021</td>\n",
       "      <td>75</td>\n",
       "      <td>Echo Dot (3rd Gen) - Smart speaker with Alexa ...</td>\n",
       "      <td>4.7</td>\n",
       "      <td>1150403</td>\n",
       "      <td>$24.99</td>\n",
       "    </tr>\n",
       "    <tr>\n",
       "      <th>13205</th>\n",
       "      <td>2021</td>\n",
       "      <td>6</td>\n",
       "      <td>Echo Dot (3rd Gen) - Smart speaker with Alexa ...</td>\n",
       "      <td>4.7</td>\n",
       "      <td>1150403</td>\n",
       "      <td>$24.99</td>\n",
       "    </tr>\n",
       "  </tbody>\n",
       "</table>\n",
       "</div>"
      ],
      "text/plain": [
       "       Year  Rank                                               Name  Rating  \\\n",
       "13476  2021    77  Echo Dot (3rd Gen) - Smart speaker with Alexa ...     4.7   \n",
       "13403  2021     4  Echo Dot (3rd Gen) - Smart speaker with Alexa ...     4.7   \n",
       "13305  2021     6  Echo Dot (3rd Gen) - Smart speaker with Alexa ...     4.7   \n",
       "13274  2021    75  Echo Dot (3rd Gen) - Smart speaker with Alexa ...     4.7   \n",
       "13205  2021     6  Echo Dot (3rd Gen) - Smart speaker with Alexa ...     4.7   \n",
       "\n",
       "       Reviews   Price  \n",
       "13476  1154421  $34.99  \n",
       "13403  1154421  $24.99  \n",
       "13305  1151460  $24.99  \n",
       "13274  1150403  $24.99  \n",
       "13205  1150403  $24.99  "
      ]
     },
     "execution_count": 34,
     "metadata": {},
     "output_type": "execute_result"
    }
   ],
   "source": [
    "electronics = electronics.sort_values(by='Reviews', ascending=False)\n",
    "electronics.head()"
   ]
  }
 ],
 "metadata": {
  "kernelspec": {
   "display_name": "Python 3",
   "language": "python",
   "name": "python3"
  },
  "language_info": {
   "codemirror_mode": {
    "name": "ipython",
    "version": 3
   },
   "file_extension": ".py",
   "mimetype": "text/x-python",
   "name": "python",
   "nbconvert_exporter": "python",
   "pygments_lexer": "ipython3",
   "version": "3.8.8"
  }
 },
 "nbformat": 4,
 "nbformat_minor": 5
}
